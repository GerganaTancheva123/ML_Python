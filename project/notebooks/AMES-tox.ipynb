{
 "cells": [
  {
   "cell_type": "markdown",
   "metadata": {},
   "source": [
    "## Microbial mutagenicity AMES competition"
   ]
  },
  {
   "cell_type": "code",
   "execution_count": 63,
   "metadata": {},
   "outputs": [],
   "source": [
    "import numpy as np\n",
    "import pandas as pd\n",
    "import matplotlib.pyplot as plt\n",
    "import seaborn as sns\n",
    "%matplotlib inline \n",
    "from sklearn.feature_selection import VarianceThreshold\n",
    "from sklearn.model_selection import train_test_split\n",
    "\n",
    "from sklearn.neighbors import KNeighborsClassifier\n",
    "from sklearn.naive_bayes import GaussianNB\n",
    "from sklearn.datasets import make_blobs\n",
    "from sklearn.linear_model import LogisticRegression\n",
    "from sklearn.tree import DecisionTreeClassifier\n",
    "\n",
    "import matplotlib.pyplot as plt\n",
    "from sklearn import metrics\n",
    "from sklearn.metrics import accuracy_score\n",
    "from sklearn.metrics import classification_report"
   ]
  },
  {
   "cell_type": "code",
   "execution_count": 2,
   "metadata": {},
   "outputs": [
    {
     "data": {
      "text/html": [
       "<div>\n",
       "<style scoped>\n",
       "    .dataframe tbody tr th:only-of-type {\n",
       "        vertical-align: middle;\n",
       "    }\n",
       "\n",
       "    .dataframe tbody tr th {\n",
       "        vertical-align: top;\n",
       "    }\n",
       "\n",
       "    .dataframe thead th {\n",
       "        text-align: right;\n",
       "    }\n",
       "</style>\n",
       "<table border=\"1\" class=\"dataframe\">\n",
       "  <thead>\n",
       "    <tr style=\"text-align: right;\">\n",
       "      <th></th>\n",
       "      <th>Unnamed: 0</th>\n",
       "      <th>AmesResult</th>\n",
       "      <th>Structure</th>\n",
       "      <th>SlogP</th>\n",
       "      <th>SMR</th>\n",
       "      <th>LabuteASA</th>\n",
       "      <th>TPSA</th>\n",
       "      <th>AMW</th>\n",
       "      <th>ExactMW</th>\n",
       "      <th>NumLipinskiHBA</th>\n",
       "      <th>...</th>\n",
       "      <th>MQN33</th>\n",
       "      <th>MQN34</th>\n",
       "      <th>MQN35</th>\n",
       "      <th>MQN36</th>\n",
       "      <th>MQN37</th>\n",
       "      <th>MQN38</th>\n",
       "      <th>MQN39</th>\n",
       "      <th>MQN40</th>\n",
       "      <th>MQN41</th>\n",
       "      <th>MQN42</th>\n",
       "    </tr>\n",
       "  </thead>\n",
       "  <tbody>\n",
       "    <tr>\n",
       "      <th>0</th>\n",
       "      <td>0</td>\n",
       "      <td>C</td>\n",
       "      <td>[Na+].[Na+].CC1(C)SC2C(NC(=O)C(C([O-])=O)C3=CS...</td>\n",
       "      <td>-8.11340</td>\n",
       "      <td>85.0967</td>\n",
       "      <td>207.568628</td>\n",
       "      <td>129.67</td>\n",
       "      <td>428.399</td>\n",
       "      <td>428.008867</td>\n",
       "      <td>8</td>\n",
       "      <td>...</td>\n",
       "      <td>0</td>\n",
       "      <td>1</td>\n",
       "      <td>2</td>\n",
       "      <td>0</td>\n",
       "      <td>0</td>\n",
       "      <td>0</td>\n",
       "      <td>0</td>\n",
       "      <td>0</td>\n",
       "      <td>2</td>\n",
       "      <td>1</td>\n",
       "    </tr>\n",
       "    <tr>\n",
       "      <th>1</th>\n",
       "      <td>1</td>\n",
       "      <td>C</td>\n",
       "      <td>FC(F)(F)C1=CC(N\\N=C2/C(=O)C(=CC3=CC=CC=C23)C(=...</td>\n",
       "      <td>11.17980</td>\n",
       "      <td>225.8008</td>\n",
       "      <td>365.430948</td>\n",
       "      <td>141.12</td>\n",
       "      <td>930.476</td>\n",
       "      <td>928.036083</td>\n",
       "      <td>10</td>\n",
       "      <td>...</td>\n",
       "      <td>0</td>\n",
       "      <td>0</td>\n",
       "      <td>0</td>\n",
       "      <td>7</td>\n",
       "      <td>0</td>\n",
       "      <td>0</td>\n",
       "      <td>0</td>\n",
       "      <td>0</td>\n",
       "      <td>4</td>\n",
       "      <td>2</td>\n",
       "    </tr>\n",
       "    <tr>\n",
       "      <th>2</th>\n",
       "      <td>2</td>\n",
       "      <td>C</td>\n",
       "      <td>CNC(=O)\\C=C(/C)OP(=O)(OC)OC</td>\n",
       "      <td>1.05370</td>\n",
       "      <td>50.5332</td>\n",
       "      <td>82.840931</td>\n",
       "      <td>73.86</td>\n",
       "      <td>223.165</td>\n",
       "      <td>223.060959</td>\n",
       "      <td>6</td>\n",
       "      <td>...</td>\n",
       "      <td>0</td>\n",
       "      <td>0</td>\n",
       "      <td>0</td>\n",
       "      <td>0</td>\n",
       "      <td>0</td>\n",
       "      <td>0</td>\n",
       "      <td>0</td>\n",
       "      <td>0</td>\n",
       "      <td>0</td>\n",
       "      <td>0</td>\n",
       "    </tr>\n",
       "    <tr>\n",
       "      <th>3</th>\n",
       "      <td>3</td>\n",
       "      <td>C</td>\n",
       "      <td>CC(C)NC(=O)N1CC(=O)N(C1=O)C1=CC(Cl)=CC(Cl)=C1</td>\n",
       "      <td>2.88000</td>\n",
       "      <td>79.7177</td>\n",
       "      <td>131.140795</td>\n",
       "      <td>69.72</td>\n",
       "      <td>330.171</td>\n",
       "      <td>329.033397</td>\n",
       "      <td>6</td>\n",
       "      <td>...</td>\n",
       "      <td>0</td>\n",
       "      <td>0</td>\n",
       "      <td>1</td>\n",
       "      <td>1</td>\n",
       "      <td>0</td>\n",
       "      <td>0</td>\n",
       "      <td>0</td>\n",
       "      <td>0</td>\n",
       "      <td>0</td>\n",
       "      <td>0</td>\n",
       "    </tr>\n",
       "    <tr>\n",
       "      <th>4</th>\n",
       "      <td>4</td>\n",
       "      <td>C</td>\n",
       "      <td>C\\C(CC\\C=C(\\C)C1CC(=O)C(C)(C)O1)=C/CC1=C(O)C(C...</td>\n",
       "      <td>5.22402</td>\n",
       "      <td>113.9341</td>\n",
       "      <td>176.578705</td>\n",
       "      <td>83.83</td>\n",
       "      <td>420.933</td>\n",
       "      <td>420.170352</td>\n",
       "      <td>5</td>\n",
       "      <td>...</td>\n",
       "      <td>0</td>\n",
       "      <td>0</td>\n",
       "      <td>1</td>\n",
       "      <td>1</td>\n",
       "      <td>0</td>\n",
       "      <td>0</td>\n",
       "      <td>0</td>\n",
       "      <td>0</td>\n",
       "      <td>0</td>\n",
       "      <td>0</td>\n",
       "    </tr>\n",
       "  </tbody>\n",
       "</table>\n",
       "<p>5 rows × 122 columns</p>\n",
       "</div>"
      ],
      "text/plain": [
       "   Unnamed: 0 AmesResult                                          Structure  \\\n",
       "0           0          C  [Na+].[Na+].CC1(C)SC2C(NC(=O)C(C([O-])=O)C3=CS...   \n",
       "1           1          C  FC(F)(F)C1=CC(N\\N=C2/C(=O)C(=CC3=CC=CC=C23)C(=...   \n",
       "2           2          C                        CNC(=O)\\C=C(/C)OP(=O)(OC)OC   \n",
       "3           3          C      CC(C)NC(=O)N1CC(=O)N(C1=O)C1=CC(Cl)=CC(Cl)=C1   \n",
       "4           4          C  C\\C(CC\\C=C(\\C)C1CC(=O)C(C)(C)O1)=C/CC1=C(O)C(C...   \n",
       "\n",
       "      SlogP       SMR   LabuteASA    TPSA      AMW     ExactMW  \\\n",
       "0  -8.11340   85.0967  207.568628  129.67  428.399  428.008867   \n",
       "1  11.17980  225.8008  365.430948  141.12  930.476  928.036083   \n",
       "2   1.05370   50.5332   82.840931   73.86  223.165  223.060959   \n",
       "3   2.88000   79.7177  131.140795   69.72  330.171  329.033397   \n",
       "4   5.22402  113.9341  176.578705   83.83  420.933  420.170352   \n",
       "\n",
       "   NumLipinskiHBA  ...  MQN33  MQN34  MQN35  MQN36  MQN37  MQN38  MQN39  \\\n",
       "0               8  ...      0      1      2      0      0      0      0   \n",
       "1              10  ...      0      0      0      7      0      0      0   \n",
       "2               6  ...      0      0      0      0      0      0      0   \n",
       "3               6  ...      0      0      1      1      0      0      0   \n",
       "4               5  ...      0      0      1      1      0      0      0   \n",
       "\n",
       "   MQN40  MQN41  MQN42  \n",
       "0      0      2      1  \n",
       "1      0      4      2  \n",
       "2      0      0      0  \n",
       "3      0      0      0  \n",
       "4      0      0      0  \n",
       "\n",
       "[5 rows x 122 columns]"
      ]
     },
     "execution_count": 2,
     "metadata": {},
     "output_type": "execute_result"
    }
   ],
   "source": [
    "df = pd.read_csv('D:/ML_Pyton_course/ML_Python/project/datasets/ames_datapreprocessing_knime.csv')\n",
    "df.head()"
   ]
  },
  {
   "cell_type": "markdown",
   "metadata": {},
   "source": [
    "## data preprocessing"
   ]
  },
  {
   "cell_type": "code",
   "execution_count": 3,
   "metadata": {},
   "outputs": [
    {
     "data": {
      "text/plain": [
       "(12138, 122)"
      ]
     },
     "execution_count": 3,
     "metadata": {},
     "output_type": "execute_result"
    }
   ],
   "source": [
    "df.shape"
   ]
  },
  {
   "cell_type": "code",
   "execution_count": 4,
   "metadata": {},
   "outputs": [
    {
     "data": {
      "text/plain": [
       "Unnamed: 0                     0\n",
       "AmesResult                     6\n",
       "Structure                      0\n",
       "SlogP                          0\n",
       "SMR                            0\n",
       "LabuteASA                      0\n",
       "TPSA                           0\n",
       "AMW                            0\n",
       "ExactMW                        0\n",
       "NumLipinskiHBA                 0\n",
       "NumLipinskiHBD                 0\n",
       "NumRotatableBonds              0\n",
       "NumHBD                         0\n",
       "NumHBA                         0\n",
       "NumAmideBonds                  0\n",
       "NumHeteroAtoms                 0\n",
       "NumHeavyAtoms                  0\n",
       "NumAtoms                       0\n",
       "NumStereocenters               0\n",
       "NumUnspecifiedStereocenters    0\n",
       "NumRings                       0\n",
       "NumAromaticRings               0\n",
       "NumSaturatedRings              0\n",
       "NumAliphaticRings              0\n",
       "NumAromaticHeterocycles        0\n",
       "NumSaturatedHeterocycles       0\n",
       "NumAliphaticHeterocycles       0\n",
       "NumAromaticCarbocycles         0\n",
       "NumSaturatedCarbocycles        0\n",
       "NumAliphaticCarbocycles        0\n",
       "                              ..\n",
       "MQN13                          0\n",
       "MQN14                          0\n",
       "MQN15                          0\n",
       "MQN16                          0\n",
       "MQN17                          0\n",
       "MQN18                          0\n",
       "MQN19                          0\n",
       "MQN20                          0\n",
       "MQN21                          0\n",
       "MQN22                          0\n",
       "MQN23                          0\n",
       "MQN24                          0\n",
       "MQN25                          0\n",
       "MQN26                          0\n",
       "MQN27                          0\n",
       "MQN28                          0\n",
       "MQN29                          0\n",
       "MQN30                          0\n",
       "MQN31                          0\n",
       "MQN32                          0\n",
       "MQN33                          0\n",
       "MQN34                          0\n",
       "MQN35                          0\n",
       "MQN36                          0\n",
       "MQN37                          0\n",
       "MQN38                          0\n",
       "MQN39                          0\n",
       "MQN40                          0\n",
       "MQN41                          0\n",
       "MQN42                          0\n",
       "Length: 122, dtype: int64"
      ]
     },
     "execution_count": 4,
     "metadata": {},
     "output_type": "execute_result"
    }
   ],
   "source": [
    "df.isnull().sum()"
   ]
  },
  {
   "cell_type": "code",
   "execution_count": 5,
   "metadata": {},
   "outputs": [
    {
     "data": {
      "text/plain": [
       "array(['C', 'A', 'B', nan], dtype=object)"
      ]
     },
     "execution_count": 5,
     "metadata": {},
     "output_type": "execute_result"
    }
   ],
   "source": [
    "df.AmesResult.unique()"
   ]
  },
  {
   "cell_type": "code",
   "execution_count": 6,
   "metadata": {},
   "outputs": [
    {
     "name": "stdout",
     "output_type": "stream",
     "text": [
      "6\n"
     ]
    },
    {
     "data": {
      "text/plain": [
       "Unnamed: 0                     0\n",
       "AmesResult                     0\n",
       "Structure                      0\n",
       "SlogP                          0\n",
       "SMR                            0\n",
       "LabuteASA                      0\n",
       "TPSA                           0\n",
       "AMW                            0\n",
       "ExactMW                        0\n",
       "NumLipinskiHBA                 0\n",
       "NumLipinskiHBD                 0\n",
       "NumRotatableBonds              0\n",
       "NumHBD                         0\n",
       "NumHBA                         0\n",
       "NumAmideBonds                  0\n",
       "NumHeteroAtoms                 0\n",
       "NumHeavyAtoms                  0\n",
       "NumAtoms                       0\n",
       "NumStereocenters               0\n",
       "NumUnspecifiedStereocenters    0\n",
       "NumRings                       0\n",
       "NumAromaticRings               0\n",
       "NumSaturatedRings              0\n",
       "NumAliphaticRings              0\n",
       "NumAromaticHeterocycles        0\n",
       "NumSaturatedHeterocycles       0\n",
       "NumAliphaticHeterocycles       0\n",
       "NumAromaticCarbocycles         0\n",
       "NumSaturatedCarbocycles        0\n",
       "NumAliphaticCarbocycles        0\n",
       "                              ..\n",
       "MQN13                          0\n",
       "MQN14                          0\n",
       "MQN15                          0\n",
       "MQN16                          0\n",
       "MQN17                          0\n",
       "MQN18                          0\n",
       "MQN19                          0\n",
       "MQN20                          0\n",
       "MQN21                          0\n",
       "MQN22                          0\n",
       "MQN23                          0\n",
       "MQN24                          0\n",
       "MQN25                          0\n",
       "MQN26                          0\n",
       "MQN27                          0\n",
       "MQN28                          0\n",
       "MQN29                          0\n",
       "MQN30                          0\n",
       "MQN31                          0\n",
       "MQN32                          0\n",
       "MQN33                          0\n",
       "MQN34                          0\n",
       "MQN35                          0\n",
       "MQN36                          0\n",
       "MQN37                          0\n",
       "MQN38                          0\n",
       "MQN39                          0\n",
       "MQN40                          0\n",
       "MQN41                          0\n",
       "MQN42                          0\n",
       "Length: 122, dtype: int64"
      ]
     },
     "execution_count": 6,
     "metadata": {},
     "output_type": "execute_result"
    }
   ],
   "source": [
    "\n",
    "df_original = df\n",
    "df = df_original.dropna()\n",
    "print(df_original.shape[0] - df.shape[0])\n",
    "df.isna().sum()"
   ]
  },
  {
   "cell_type": "code",
   "execution_count": 53,
   "metadata": {},
   "outputs": [
    {
     "data": {
      "text/plain": [
       "<matplotlib.axes._subplots.AxesSubplot at 0x1a97508e160>"
      ]
     },
     "execution_count": 53,
     "metadata": {},
     "output_type": "execute_result"
    },
    {
     "data": {
      "image/png": "[encoded data removed]",
      "text/plain": [
       "<Figure size 432x288 with 1 Axes>"
      ]
     },
     "metadata": {
      "needs_background": "light"
     },
     "output_type": "display_data"
    }
   ],
   "source": [
    "sns.countplot('AmesResult', data=df)"
   ]
  },
  {
   "cell_type": "code",
   "execution_count": 16,
   "metadata": {},
   "outputs": [],
   "source": [
    "X = df.iloc[0: , 3:]\n",
    "y = df.AmesResult"
   ]
  },
  {
   "cell_type": "code",
   "execution_count": 9,
   "metadata": {},
   "outputs": [],
   "source": [
    "#p=0.8\n",
    "#tr = p*(1-p)\n",
    "#sel = VarianceThreshold(threshold=0)\n",
    "#sel.fit(X)\n",
    "#mask_retain = sel.get_support() ## samo kazwa koi shte sotanat i koi ne no ne gi e iztril\n",
    "#print(mask_retain)\n",
    "\n",
    "#ind_retain = sel.get_support(indices = True)\n",
    "#print(len(ind_retain))\n",
    "\n",
    "#sel.transform(X)\n",
    "#X.shape\n"
   ]
  },
  {
   "cell_type": "markdown",
   "metadata": {},
   "source": [
    "## clasification model without feature selection"
   ]
  },
  {
   "cell_type": "markdown",
   "metadata": {},
   "source": [
    "#### KNN model"
   ]
  },
  {
   "cell_type": "code",
   "execution_count": 17,
   "metadata": {},
   "outputs": [],
   "source": [
    "X_train, X_test, y_train, y_test = train_test_split(\n",
    "X, y, random_state=4,test_size = 0.25)"
   ]
  },
  {
   "cell_type": "code",
   "execution_count": 18,
   "metadata": {},
   "outputs": [
    {
     "data": {
      "text/plain": [
       "KNeighborsClassifier(algorithm='auto', leaf_size=30, metric='minkowski',\n",
       "           metric_params=None, n_jobs=None, n_neighbors=11, p=2,\n",
       "           weights='uniform')"
      ]
     },
     "execution_count": 18,
     "metadata": {},
     "output_type": "execute_result"
    }
   ],
   "source": [
    "knn = KNeighborsClassifier(n_neighbors=11)\n",
    "knn.fit(X_train,y_train)"
   ]
  },
  {
   "cell_type": "code",
   "execution_count": 27,
   "metadata": {},
   "outputs": [
    {
     "data": {
      "text/plain": [
       "432"
      ]
     },
     "execution_count": 27,
     "metadata": {},
     "output_type": "execute_result"
    }
   ],
   "source": [
    "y_pred = knn.predict(X_test)\n",
    "(y_pred != y_test).sum()"
   ]
  },
  {
   "cell_type": "code",
   "execution_count": 28,
   "metadata": {},
   "outputs": [
    {
     "name": "stdout",
     "output_type": "stream",
     "text": [
      "(12132, 122)\n"
     ]
    }
   ],
   "source": [
    "print(df.shape)"
   ]
  },
  {
   "cell_type": "code",
   "execution_count": 31,
   "metadata": {},
   "outputs": [
    {
     "name": "stdout",
     "output_type": "stream",
     "text": [
      "3.5608308605341246\n"
     ]
    }
   ],
   "source": [
    "print(432/12132*100)"
   ]
  },
  {
   "cell_type": "code",
   "execution_count": 29,
   "metadata": {},
   "outputs": [
    {
     "data": {
      "text/plain": [
       "0.857566765578635"
      ]
     },
     "execution_count": 29,
     "metadata": {},
     "output_type": "execute_result"
    }
   ],
   "source": [
    "knn.score(X_test,y_test)"
   ]
  },
  {
   "cell_type": "markdown",
   "metadata": {},
   "source": [
    "### Multinomial Naive Bayes"
   ]
  },
  {
   "cell_type": "code",
   "execution_count": 35,
   "metadata": {},
   "outputs": [
    {
     "data": {
      "image/png": "[encoded data removed]",
      "text/plain": [
       "<Figure size 432x288 with 1 Axes>"
      ]
     },
     "metadata": {
      "needs_background": "light"
     },
     "output_type": "display_data"
    }
   ],
   "source": [
    "# Generate isotropic Gaussian blobs for clustering\n",
    "X, y = make_blobs(100, 2, centers=2, random_state=2, cluster_std=1.5)\n",
    "plt.scatter(X[:, 0], X[:, 1], c=y, s=50, cmap='RdBu'); # как да го приложа за конкретния случай"
   ]
  },
  {
   "cell_type": "code",
   "execution_count": 40,
   "metadata": {},
   "outputs": [],
   "source": [
    "model = GaussianNB()\n",
    "model.fit(X, y); "
   ]
  },
  {
   "cell_type": "code",
   "execution_count": 52,
   "metadata": {},
   "outputs": [
    {
     "data": {
      "text/plain": [
       "0.857566765578635"
      ]
     },
     "execution_count": 52,
     "metadata": {},
     "output_type": "execute_result"
    }
   ],
   "source": [
    "accuracy_score(y_test,y_pred)"
   ]
  },
  {
   "cell_type": "markdown",
   "metadata": {},
   "source": [
    "### logistic regression"
   ]
  },
  {
   "cell_type": "code",
   "execution_count": 58,
   "metadata": {},
   "outputs": [
    {
     "name": "stderr",
     "output_type": "stream",
     "text": [
      "D:\\Anaconda\\lib\\site-packages\\sklearn\\linear_model\\logistic.py:433: FutureWarning: Default solver will be changed to 'lbfgs' in 0.22. Specify a solver to silence this warning.\n",
      "  FutureWarning)\n",
      "D:\\Anaconda\\lib\\site-packages\\sklearn\\linear_model\\logistic.py:460: FutureWarning: Default multi_class will be changed to 'auto' in 0.22. Specify the multi_class option to silence this warning.\n",
      "  \"this warning.\", FutureWarning)\n"
     ]
    }
   ],
   "source": [
    "lg = LogisticRegression()\n",
    "fitted = lg.fit(X_train,y_train)\n",
    "# коректно ли е да прилагам логистична регресия за 3 класа, имам усещането, че не е, но как да разделя на по два класа. \n",
    "# Представям си го да обединя А+Б(силно токлични + токсични) като един клас(токсични) и С (нетоксични) втори клас. \n",
    "# След което да приложа логистична регресия на класовете А и Б.\n",
    "# Как да ги обединя после двата модела?"
   ]
  },
  {
   "cell_type": "code",
   "execution_count": 59,
   "metadata": {},
   "outputs": [
    {
     "name": "stdout",
     "output_type": "stream",
     "text": [
      "Correct answers: 2601 out of 3033\n"
     ]
    }
   ],
   "source": [
    "res = y_pred == y_test\n",
    "true_count = res[res==True]\n",
    "\n",
    "print(f'Correct answers: {true_count.count()} out of {y_pred.size}')"
   ]
  },
  {
   "cell_type": "code",
   "execution_count": 60,
   "metadata": {},
   "outputs": [
    {
     "name": "stdout",
     "output_type": "stream",
     "text": [
      "85.7566765578635\n"
     ]
    }
   ],
   "source": [
    "print(2601/3033*100)"
   ]
  },
  {
   "cell_type": "code",
   "execution_count": 61,
   "metadata": {},
   "outputs": [
    {
     "name": "stdout",
     "output_type": "stream",
     "text": [
      "              precision    recall  f1-score   support\n",
      "\n",
      "           A       0.40      0.03      0.06       177\n",
      "           B       0.50      0.07      0.13       264\n",
      "           C       0.86      0.99      0.92      2592\n",
      "\n",
      "   micro avg       0.86      0.86      0.86      3033\n",
      "   macro avg       0.59      0.37      0.37      3033\n",
      "weighted avg       0.81      0.86      0.80      3033\n",
      "\n"
     ]
    }
   ],
   "source": [
    "print(classification_report(y_test,y_pred))"
   ]
  },
  {
   "cell_type": "markdown",
   "metadata": {},
   "source": [
    "### decision tree"
   ]
  },
  {
   "cell_type": "code",
   "execution_count": 55,
   "metadata": {},
   "outputs": [
    {
     "data": {
      "text/plain": [
       "DecisionTreeClassifier(class_weight=None, criterion='gini', max_depth=None,\n",
       "            max_features=None, max_leaf_nodes=None,\n",
       "            min_impurity_decrease=0.0, min_impurity_split=None,\n",
       "            min_samples_leaf=1, min_samples_split=2,\n",
       "            min_weight_fraction_leaf=0.0, presort=False, random_state=None,\n",
       "            splitter='best')"
      ]
     },
     "execution_count": 55,
     "metadata": {},
     "output_type": "execute_result"
    }
   ],
   "source": [
    "model = DecisionTreeClassifier()\n",
    "model.fit(X,y)"
   ]
  },
  {
   "cell_type": "code",
   "execution_count": null,
   "metadata": {},
   "outputs": [],
   "source": [
    "## пробвах дърво на решенията не го разбирам особено, но да пробвам"
   ]
  },
  {
   "cell_type": "markdown",
   "metadata": {},
   "source": [
    "# feature selection"
   ]
  },
  {
   "cell_type": "markdown",
   "metadata": {},
   "source": [
    "### corr feature selection"
   ]
  },
  {
   "cell_type": "code",
   "execution_count": 62,
   "metadata": {},
   "outputs": [
    {
     "ename": "AttributeError",
     "evalue": "'numpy.ndarray' object has no attribute 'corr'",
     "output_type": "error",
     "traceback": [
      "\u001b[1;31m---------------------------------------------------------------------------\u001b[0m",
      "\u001b[1;31mAttributeError\u001b[0m                            Traceback (most recent call last)",
      "\u001b[1;32m<ipython-input-62-e3a1e9fca84c>\u001b[0m in \u001b[0;36m<module>\u001b[1;34m\u001b[0m\n\u001b[1;32m----> 1\u001b[1;33m \u001b[0mcorr_matrix\u001b[0m \u001b[1;33m=\u001b[0m \u001b[0mX\u001b[0m\u001b[1;33m.\u001b[0m\u001b[0mcorr\u001b[0m\u001b[1;33m(\u001b[0m\u001b[1;33m)\u001b[0m\u001b[1;33m\u001b[0m\u001b[1;33m\u001b[0m\u001b[0m\n\u001b[0m\u001b[0;32m      2\u001b[0m \u001b[1;31m#print(corr_matrix)\u001b[0m\u001b[1;33m\u001b[0m\u001b[1;33m\u001b[0m\u001b[1;33m\u001b[0m\u001b[0m\n\u001b[0;32m      3\u001b[0m \u001b[1;31m#for column in corr_matrix.columns:\u001b[0m\u001b[1;33m\u001b[0m\u001b[1;33m\u001b[0m\u001b[1;33m\u001b[0m\u001b[0m\n\u001b[0;32m      4\u001b[0m     \u001b[1;31m#col_data = corr_matrix[column]\u001b[0m\u001b[1;33m\u001b[0m\u001b[1;33m\u001b[0m\u001b[1;33m\u001b[0m\u001b[0m\n\u001b[0;32m      5\u001b[0m     \u001b[1;31m#print(column)\u001b[0m\u001b[1;33m\u001b[0m\u001b[1;33m\u001b[0m\u001b[1;33m\u001b[0m\u001b[0m\n",
      "\u001b[1;31mAttributeError\u001b[0m: 'numpy.ndarray' object has no attribute 'corr'"
     ]
    }
   ],
   "source": [
    "corr_matrix = X.corr()\n",
    "#print(corr_matrix)\n",
    "#for column in corr_matrix.columns:\n",
    "    #col_data = corr_matrix[column]\n",
    "    #print(column)\n",
    "    \n",
    "    #for value in col_data:\n",
    "        #if abs(value) >0.8:\n",
    "           # print(value)"
   ]
  },
  {
   "cell_type": "markdown",
   "metadata": {},
   "source": [
    "## remove feature with low variance"
   ]
  },
  {
   "cell_type": "code",
   "execution_count": 44,
   "metadata": {},
   "outputs": [],
   "source": [
    "## from sklearn.feature_selection import SelectKBest"
   ]
  },
  {
   "cell_type": "code",
   "execution_count": 45,
   "metadata": {},
   "outputs": [],
   "source": [
    "from sklearn.feature_selection import VarianceThreshold"
   ]
  },
  {
   "cell_type": "code",
   "execution_count": 46,
   "metadata": {},
   "outputs": [
    {
     "data": {
      "text/plain": [
       "(12132, 119)"
      ]
     },
     "execution_count": 46,
     "metadata": {},
     "output_type": "execute_result"
    }
   ],
   "source": [
    "X.shape"
   ]
  },
  {
   "cell_type": "code",
   "execution_count": 50,
   "metadata": {},
   "outputs": [
    {
     "name": "stdout",
     "output_type": "stream",
     "text": [
      "Index(['SlogP', 'SMR', 'LabuteASA', 'TPSA', 'AMW', 'ExactMW', 'NumLipinskiHBA',\n",
      "       'NumLipinskiHBD', 'NumRotatableBonds', 'NumHBD', 'NumHBA',\n",
      "       'NumHeteroAtoms', 'NumHeavyAtoms', 'NumAtoms', 'NumStereocenters',\n",
      "       'NumUnspecifiedStereocenters', 'NumRings', 'NumAromaticRings',\n",
      "       'NumAliphaticRings', 'NumAromaticCarbocycles', 'Chi0v', 'Chi1v',\n",
      "       'Chi2v', 'Chi3v', 'Chi4v', 'Chi1n', 'Chi2n', 'Chi3n', 'Chi4n',\n",
      "       'HallKierAlpha', 'kappa1', 'kappa2', 'kappa3', 'slogp_VSA1',\n",
      "       'slogp_VSA2', 'slogp_VSA3', 'slogp_VSA4', 'slogp_VSA5', 'slogp_VSA6',\n",
      "       'slogp_VSA7', 'slogp_VSA8', 'slogp_VSA10', 'slogp_VSA11', 'slogp_VSA12',\n",
      "       'smr_VSA1', 'smr_VSA2', 'smr_VSA3', 'smr_VSA4', 'smr_VSA5', 'smr_VSA6',\n",
      "       'smr_VSA7', 'smr_VSA9', 'smr_VSA10', 'peoe_VSA1', 'peoe_VSA2',\n",
      "       'peoe_VSA3', 'peoe_VSA4', 'peoe_VSA5', 'peoe_VSA6', 'peoe_VSA7',\n",
      "       'peoe_VSA8', 'peoe_VSA9', 'peoe_VSA10', 'peoe_VSA11', 'peoe_VSA12',\n",
      "       'peoe_VSA13', 'peoe_VSA14', 'MQN1', 'MQN2', 'MQN8', 'MQN9', 'MQN10',\n",
      "       'MQN12', 'MQN13', 'MQN14', 'MQN16', 'MQN17', 'MQN19', 'MQN20', 'MQN21',\n",
      "       'MQN22', 'MQN23', 'MQN26', 'MQN27', 'MQN28', 'MQN29', 'MQN30', 'MQN31',\n",
      "       'MQN36', 'MQN41', 'MQN42'],\n",
      "      dtype='object')\n"
     ]
    },
    {
     "data": {
      "text/plain": [
       "(12132, 119)"
      ]
     },
     "execution_count": 50,
     "metadata": {},
     "output_type": "execute_result"
    }
   ],
   "source": [
    "#print(X.var())\n",
    "treshold = 0.9\n",
    "sel = VarianceThreshold(threshold=treshold).fit(X)\n",
    "mask = sel.get_support()\n",
    "retained_columns = X.columns[mask]    \n",
    "print(retained_columns)\n",
    "sel.transform(X)\n",
    "X.shape"
   ]
  },
  {
   "cell_type": "code",
   "execution_count": null,
   "metadata": {},
   "outputs": [],
   "source": [
    "X = X.drop(axis=1,columns= )"
   ]
  },
  {
   "cell_type": "code",
   "execution_count": 22,
   "metadata": {},
   "outputs": [],
   "source": [
    "# from sklearn.feature_selection import SelectKBest, f_classif\n",
    "# sel = SelectKBest(f_classif, k=40).fit(X, y)\n",
    "\n",
    "# mask_retain = sel.get_support() ## samo kazwa koi shte sotanat i koi ne no ne gi e iztril\n",
    "# #print(mask_retein)\n",
    "\n",
    "# ind_retain = sel.get_support(indices = True)\n",
    "# print(ind_retain)\n",
    "\n",
    "# X_new = sel.transform(X)\n",
    "# X_new.shape"
   ]
  },
  {
   "cell_type": "code",
   "execution_count": 62,
   "metadata": {},
   "outputs": [
    {
     "data": {
      "text/plain": [
       "(12132, 40)"
      ]
     },
     "execution_count": 62,
     "metadata": {},
     "output_type": "execute_result"
    }
   ],
   "source": [
    "X_new.shape"
   ]
  },
  {
   "cell_type": "code",
   "execution_count": 63,
   "metadata": {},
   "outputs": [],
   "source": [
    "from sklearn.model_selection import train_test_split\n"
   ]
  },
  {
   "cell_type": "code",
   "execution_count": 64,
   "metadata": {},
   "outputs": [],
   "source": [
    "X_train, X_test, y_train, y_test = train_test_split(X_new, y, random_state=42, test_size=0.25)"
   ]
  },
  {
   "cell_type": "code",
   "execution_count": 65,
   "metadata": {},
   "outputs": [],
   "source": [
    "from sklearn.naive_bayes import GaussianNB"
   ]
  },
  {
   "cell_type": "code",
   "execution_count": 66,
   "metadata": {},
   "outputs": [],
   "source": [
    "nb = GaussianNB().fit(X_train,y_train)"
   ]
  },
  {
   "cell_type": "code",
   "execution_count": 50,
   "metadata": {},
   "outputs": [],
   "source": [
    "y_pred=nb.predict(X_test)\n"
   ]
  },
  {
   "cell_type": "code",
   "execution_count": 67,
   "metadata": {},
   "outputs": [],
   "source": [
    "from sklearn.metrics import accuracy_score"
   ]
  },
  {
   "cell_type": "code",
   "execution_count": 68,
   "metadata": {},
   "outputs": [
    {
     "data": {
      "text/plain": [
       "0.3620178041543027"
      ]
     },
     "execution_count": 68,
     "metadata": {},
     "output_type": "execute_result"
    }
   ],
   "source": [
    "accuracy_score(y_test,y_pred)"
   ]
  },
  {
   "cell_type": "code",
   "execution_count": 69,
   "metadata": {},
   "outputs": [],
   "source": [
    "from sklearn.metrics import confusion_matrix"
   ]
  },
  {
   "cell_type": "code",
   "execution_count": 70,
   "metadata": {},
   "outputs": [
    {
     "data": {
      "text/plain": [
       "array([[ 136,    5,   16],\n",
       "       [ 221,   14,   54],\n",
       "       [1491,  148,  948]], dtype=int64)"
      ]
     },
     "execution_count": 70,
     "metadata": {},
     "output_type": "execute_result"
    }
   ],
   "source": [
    "confusion_matrix(y_test, y_pred)"
   ]
  },
  {
   "cell_type": "code",
   "execution_count": null,
   "metadata": {},
   "outputs": [],
   "source": []
  },
  {
   "cell_type": "code",
   "execution_count": null,
   "metadata": {},
   "outputs": [],
   "source": []
  }
 ],
 "metadata": {
  "kernelspec": {
   "display_name": "Python 3",
   "language": "python",
   "name": "python3"
  },
  "language_info": {
   "codemirror_mode": {
    "name": "ipython",
    "version": 3
   },
   "file_extension": ".py",
   "mimetype": "text/x-python",
   "name": "python",
   "nbconvert_exporter": "python",
   "pygments_lexer": "ipython3",
   "version": "3.8.2"
  }
 },
 "nbformat": 4,
 "nbformat_minor": 4
}
