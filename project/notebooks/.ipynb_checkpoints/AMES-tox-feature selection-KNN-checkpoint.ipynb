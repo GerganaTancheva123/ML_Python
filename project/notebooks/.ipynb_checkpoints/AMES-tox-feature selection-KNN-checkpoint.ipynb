{
 "cells": [
  {
   "cell_type": "markdown",
   "metadata": {},
   "source": [
    "## AMES-TOX KNN with feature selection"
   ]
  },
  {
   "cell_type": "markdown",
   "metadata": {},
   "source": [
    "### the real test is 85% accuracy "
   ]
  },
  {
   "cell_type": "code",
   "execution_count": 71,
   "metadata": {},
   "outputs": [],
   "source": [
    "import numpy as np\n",
    "import pandas as pd\n",
    "import matplotlib.pyplot as plt\n",
    "import seaborn as sns\n",
    "%matplotlib inline \n",
    "from sklearn.feature_selection import VarianceThreshold\n",
    "from sklearn.model_selection import train_test_split\n",
    "\n",
    "from sklearn.neighbors import KNeighborsClassifier\n",
    "\n",
    "\n",
    "import matplotlib.pyplot as plt\n",
    "from sklearn import metrics\n",
    "from sklearn.metrics import accuracy_score\n",
    "from sklearn.metrics import classification_report"
   ]
  },
  {
   "cell_type": "code",
   "execution_count": 72,
   "metadata": {},
   "outputs": [
    {
     "data": {
      "text/html": [
       "<div>\n",
       "<style scoped>\n",
       "    .dataframe tbody tr th:only-of-type {\n",
       "        vertical-align: middle;\n",
       "    }\n",
       "\n",
       "    .dataframe tbody tr th {\n",
       "        vertical-align: top;\n",
       "    }\n",
       "\n",
       "    .dataframe thead th {\n",
       "        text-align: right;\n",
       "    }\n",
       "</style>\n",
       "<table border=\"1\" class=\"dataframe\">\n",
       "  <thead>\n",
       "    <tr style=\"text-align: right;\">\n",
       "      <th></th>\n",
       "      <th>Unnamed: 0</th>\n",
       "      <th>AmesResult</th>\n",
       "      <th>Structure</th>\n",
       "      <th>SlogP</th>\n",
       "      <th>SMR</th>\n",
       "      <th>LabuteASA</th>\n",
       "      <th>TPSA</th>\n",
       "      <th>AMW</th>\n",
       "      <th>ExactMW</th>\n",
       "      <th>NumLipinskiHBA</th>\n",
       "      <th>...</th>\n",
       "      <th>MQN33</th>\n",
       "      <th>MQN34</th>\n",
       "      <th>MQN35</th>\n",
       "      <th>MQN36</th>\n",
       "      <th>MQN37</th>\n",
       "      <th>MQN38</th>\n",
       "      <th>MQN39</th>\n",
       "      <th>MQN40</th>\n",
       "      <th>MQN41</th>\n",
       "      <th>MQN42</th>\n",
       "    </tr>\n",
       "  </thead>\n",
       "  <tbody>\n",
       "    <tr>\n",
       "      <th>0</th>\n",
       "      <td>0</td>\n",
       "      <td>C</td>\n",
       "      <td>[Na+].[Na+].CC1(C)SC2C(NC(=O)C(C([O-])=O)C3=CS...</td>\n",
       "      <td>-8.11340</td>\n",
       "      <td>85.0967</td>\n",
       "      <td>207.568628</td>\n",
       "      <td>129.67</td>\n",
       "      <td>428.399</td>\n",
       "      <td>428.008867</td>\n",
       "      <td>8</td>\n",
       "      <td>...</td>\n",
       "      <td>0</td>\n",
       "      <td>1</td>\n",
       "      <td>2</td>\n",
       "      <td>0</td>\n",
       "      <td>0</td>\n",
       "      <td>0</td>\n",
       "      <td>0</td>\n",
       "      <td>0</td>\n",
       "      <td>2</td>\n",
       "      <td>1</td>\n",
       "    </tr>\n",
       "    <tr>\n",
       "      <th>1</th>\n",
       "      <td>1</td>\n",
       "      <td>C</td>\n",
       "      <td>FC(F)(F)C1=CC(N\\N=C2/C(=O)C(=CC3=CC=CC=C23)C(=...</td>\n",
       "      <td>11.17980</td>\n",
       "      <td>225.8008</td>\n",
       "      <td>365.430948</td>\n",
       "      <td>141.12</td>\n",
       "      <td>930.476</td>\n",
       "      <td>928.036083</td>\n",
       "      <td>10</td>\n",
       "      <td>...</td>\n",
       "      <td>0</td>\n",
       "      <td>0</td>\n",
       "      <td>0</td>\n",
       "      <td>7</td>\n",
       "      <td>0</td>\n",
       "      <td>0</td>\n",
       "      <td>0</td>\n",
       "      <td>0</td>\n",
       "      <td>4</td>\n",
       "      <td>2</td>\n",
       "    </tr>\n",
       "    <tr>\n",
       "      <th>2</th>\n",
       "      <td>2</td>\n",
       "      <td>C</td>\n",
       "      <td>CNC(=O)\\C=C(/C)OP(=O)(OC)OC</td>\n",
       "      <td>1.05370</td>\n",
       "      <td>50.5332</td>\n",
       "      <td>82.840931</td>\n",
       "      <td>73.86</td>\n",
       "      <td>223.165</td>\n",
       "      <td>223.060959</td>\n",
       "      <td>6</td>\n",
       "      <td>...</td>\n",
       "      <td>0</td>\n",
       "      <td>0</td>\n",
       "      <td>0</td>\n",
       "      <td>0</td>\n",
       "      <td>0</td>\n",
       "      <td>0</td>\n",
       "      <td>0</td>\n",
       "      <td>0</td>\n",
       "      <td>0</td>\n",
       "      <td>0</td>\n",
       "    </tr>\n",
       "    <tr>\n",
       "      <th>3</th>\n",
       "      <td>3</td>\n",
       "      <td>C</td>\n",
       "      <td>CC(C)NC(=O)N1CC(=O)N(C1=O)C1=CC(Cl)=CC(Cl)=C1</td>\n",
       "      <td>2.88000</td>\n",
       "      <td>79.7177</td>\n",
       "      <td>131.140795</td>\n",
       "      <td>69.72</td>\n",
       "      <td>330.171</td>\n",
       "      <td>329.033397</td>\n",
       "      <td>6</td>\n",
       "      <td>...</td>\n",
       "      <td>0</td>\n",
       "      <td>0</td>\n",
       "      <td>1</td>\n",
       "      <td>1</td>\n",
       "      <td>0</td>\n",
       "      <td>0</td>\n",
       "      <td>0</td>\n",
       "      <td>0</td>\n",
       "      <td>0</td>\n",
       "      <td>0</td>\n",
       "    </tr>\n",
       "    <tr>\n",
       "      <th>4</th>\n",
       "      <td>4</td>\n",
       "      <td>C</td>\n",
       "      <td>C\\C(CC\\C=C(\\C)C1CC(=O)C(C)(C)O1)=C/CC1=C(O)C(C...</td>\n",
       "      <td>5.22402</td>\n",
       "      <td>113.9341</td>\n",
       "      <td>176.578705</td>\n",
       "      <td>83.83</td>\n",
       "      <td>420.933</td>\n",
       "      <td>420.170352</td>\n",
       "      <td>5</td>\n",
       "      <td>...</td>\n",
       "      <td>0</td>\n",
       "      <td>0</td>\n",
       "      <td>1</td>\n",
       "      <td>1</td>\n",
       "      <td>0</td>\n",
       "      <td>0</td>\n",
       "      <td>0</td>\n",
       "      <td>0</td>\n",
       "      <td>0</td>\n",
       "      <td>0</td>\n",
       "    </tr>\n",
       "  </tbody>\n",
       "</table>\n",
       "<p>5 rows × 122 columns</p>\n",
       "</div>"
      ],
      "text/plain": [
       "   Unnamed: 0 AmesResult                                          Structure  \\\n",
       "0           0          C  [Na+].[Na+].CC1(C)SC2C(NC(=O)C(C([O-])=O)C3=CS...   \n",
       "1           1          C  FC(F)(F)C1=CC(N\\N=C2/C(=O)C(=CC3=CC=CC=C23)C(=...   \n",
       "2           2          C                        CNC(=O)\\C=C(/C)OP(=O)(OC)OC   \n",
       "3           3          C      CC(C)NC(=O)N1CC(=O)N(C1=O)C1=CC(Cl)=CC(Cl)=C1   \n",
       "4           4          C  C\\C(CC\\C=C(\\C)C1CC(=O)C(C)(C)O1)=C/CC1=C(O)C(C...   \n",
       "\n",
       "      SlogP       SMR   LabuteASA    TPSA      AMW     ExactMW  \\\n",
       "0  -8.11340   85.0967  207.568628  129.67  428.399  428.008867   \n",
       "1  11.17980  225.8008  365.430948  141.12  930.476  928.036083   \n",
       "2   1.05370   50.5332   82.840931   73.86  223.165  223.060959   \n",
       "3   2.88000   79.7177  131.140795   69.72  330.171  329.033397   \n",
       "4   5.22402  113.9341  176.578705   83.83  420.933  420.170352   \n",
       "\n",
       "   NumLipinskiHBA  ...  MQN33  MQN34  MQN35  MQN36  MQN37  MQN38  MQN39  \\\n",
       "0               8  ...      0      1      2      0      0      0      0   \n",
       "1              10  ...      0      0      0      7      0      0      0   \n",
       "2               6  ...      0      0      0      0      0      0      0   \n",
       "3               6  ...      0      0      1      1      0      0      0   \n",
       "4               5  ...      0      0      1      1      0      0      0   \n",
       "\n",
       "   MQN40  MQN41  MQN42  \n",
       "0      0      2      1  \n",
       "1      0      4      2  \n",
       "2      0      0      0  \n",
       "3      0      0      0  \n",
       "4      0      0      0  \n",
       "\n",
       "[5 rows x 122 columns]"
      ]
     },
     "execution_count": 72,
     "metadata": {},
     "output_type": "execute_result"
    }
   ],
   "source": [
    "df = pd.read_csv('D:/ML_Pyton_course/ML_Python/project/datasets/ames_datapreprocessing_knime.csv')\n",
    "df.head()"
   ]
  },
  {
   "cell_type": "code",
   "execution_count": 73,
   "metadata": {},
   "outputs": [
    {
     "data": {
      "text/plain": [
       "(12138, 122)"
      ]
     },
     "execution_count": 73,
     "metadata": {},
     "output_type": "execute_result"
    }
   ],
   "source": [
    "df.shape"
   ]
  },
  {
   "cell_type": "code",
   "execution_count": 74,
   "metadata": {},
   "outputs": [],
   "source": [
    "#df.isnull().sum()"
   ]
  },
  {
   "cell_type": "code",
   "execution_count": 75,
   "metadata": {},
   "outputs": [
    {
     "data": {
      "text/plain": [
       "array(['C', 'A', 'B', nan], dtype=object)"
      ]
     },
     "execution_count": 75,
     "metadata": {},
     "output_type": "execute_result"
    }
   ],
   "source": [
    "df.AmesResult.unique()"
   ]
  },
  {
   "cell_type": "code",
   "execution_count": 76,
   "metadata": {},
   "outputs": [
    {
     "name": "stdout",
     "output_type": "stream",
     "text": [
      "6\n"
     ]
    },
    {
     "data": {
      "text/plain": [
       "Unnamed: 0                     0\n",
       "AmesResult                     0\n",
       "Structure                      0\n",
       "SlogP                          0\n",
       "SMR                            0\n",
       "LabuteASA                      0\n",
       "TPSA                           0\n",
       "AMW                            0\n",
       "ExactMW                        0\n",
       "NumLipinskiHBA                 0\n",
       "NumLipinskiHBD                 0\n",
       "NumRotatableBonds              0\n",
       "NumHBD                         0\n",
       "NumHBA                         0\n",
       "NumAmideBonds                  0\n",
       "NumHeteroAtoms                 0\n",
       "NumHeavyAtoms                  0\n",
       "NumAtoms                       0\n",
       "NumStereocenters               0\n",
       "NumUnspecifiedStereocenters    0\n",
       "NumRings                       0\n",
       "NumAromaticRings               0\n",
       "NumSaturatedRings              0\n",
       "NumAliphaticRings              0\n",
       "NumAromaticHeterocycles        0\n",
       "NumSaturatedHeterocycles       0\n",
       "NumAliphaticHeterocycles       0\n",
       "NumAromaticCarbocycles         0\n",
       "NumSaturatedCarbocycles        0\n",
       "NumAliphaticCarbocycles        0\n",
       "                              ..\n",
       "MQN13                          0\n",
       "MQN14                          0\n",
       "MQN15                          0\n",
       "MQN16                          0\n",
       "MQN17                          0\n",
       "MQN18                          0\n",
       "MQN19                          0\n",
       "MQN20                          0\n",
       "MQN21                          0\n",
       "MQN22                          0\n",
       "MQN23                          0\n",
       "MQN24                          0\n",
       "MQN25                          0\n",
       "MQN26                          0\n",
       "MQN27                          0\n",
       "MQN28                          0\n",
       "MQN29                          0\n",
       "MQN30                          0\n",
       "MQN31                          0\n",
       "MQN32                          0\n",
       "MQN33                          0\n",
       "MQN34                          0\n",
       "MQN35                          0\n",
       "MQN36                          0\n",
       "MQN37                          0\n",
       "MQN38                          0\n",
       "MQN39                          0\n",
       "MQN40                          0\n",
       "MQN41                          0\n",
       "MQN42                          0\n",
       "Length: 122, dtype: int64"
      ]
     },
     "execution_count": 76,
     "metadata": {},
     "output_type": "execute_result"
    }
   ],
   "source": [
    "df_original = df\n",
    "df = df_original.dropna()\n",
    "print(df_original.shape[0] - df.shape[0])\n",
    "df.isna().sum()"
   ]
  },
  {
   "cell_type": "code",
   "execution_count": 77,
   "metadata": {},
   "outputs": [
    {
     "data": {
      "text/plain": [
       "<matplotlib.axes._subplots.AxesSubplot at 0x20025d4a240>"
      ]
     },
     "execution_count": 77,
     "metadata": {},
     "output_type": "execute_result"
    },
    {
     "data": {
      "image/png": "[encoded data removed]",
      "text/plain": [
       "<Figure size 432x288 with 1 Axes>"
      ]
     },
     "metadata": {
      "needs_background": "light"
     },
     "output_type": "display_data"
    }
   ],
   "source": [
    "sns.countplot('AmesResult', data=df)"
   ]
  },
  {
   "cell_type": "code",
   "execution_count": 78,
   "metadata": {},
   "outputs": [],
   "source": [
    "X = df.iloc[0: , 3:]\n",
    "y = df.AmesResult"
   ]
  },
  {
   "cell_type": "markdown",
   "metadata": {},
   "source": [
    "### Feature selection"
   ]
  },
  {
   "cell_type": "markdown",
   "metadata": {},
   "source": [
    "#### Removing features with low variance & Z score normalization"
   ]
  },
  {
   "cell_type": "code",
   "execution_count": 79,
   "metadata": {},
   "outputs": [
    {
     "name": "stdout",
     "output_type": "stream",
     "text": [
      "SlogP                             13.150105\n",
      "SMR                             2571.265016\n",
      "LabuteASA                       7769.304387\n",
      "TPSA                            5060.115434\n",
      "AMW                            42785.705062\n",
      "ExactMW                        42688.004538\n",
      "NumLipinskiHBA                    20.755586\n",
      "NumLipinskiHBD                     2.966360\n",
      "NumRotatableBonds                 29.937663\n",
      "NumHBD                             2.239807\n",
      "NumHBA                            17.877152\n",
      "NumAmideBonds                      0.649441\n",
      "NumHeteroAtoms                    36.821770\n",
      "NumHeavyAtoms                    193.149134\n",
      "NumAtoms                         645.384210\n",
      "NumStereocenters                   3.711505\n",
      "NumUnspecifiedStereocenters        0.942543\n",
      "NumRings                           2.871796\n",
      "NumAromaticRings                   2.240270\n",
      "NumSaturatedRings                  0.707255\n",
      "NumAliphaticRings                  0.960346\n",
      "NumAromaticHeterocycles            0.335742\n",
      "NumSaturatedHeterocycles           0.341856\n",
      "NumAliphaticHeterocycles           0.509078\n",
      "NumAromaticCarbocycles             1.742663\n",
      "NumSaturatedCarbocycles            0.357349\n",
      "NumAliphaticCarbocycles            0.461069\n",
      "FractionCSP3                       0.091839\n",
      "Chi0v                             80.226700\n",
      "Chi1v                             26.605739\n",
      "                                   ...     \n",
      "MQN13                             64.414634\n",
      "MQN14                              4.576760\n",
      "MQN15                              0.110396\n",
      "MQN16                             36.172501\n",
      "MQN17                             18.317735\n",
      "MQN18                              0.000000\n",
      "MQN19                             29.937663\n",
      "MQN20                             66.810332\n",
      "MQN21                             20.768980\n",
      "MQN22                              2.966360\n",
      "MQN23                              2.278992\n",
      "MQN24                              0.561904\n",
      "MQN25                              0.561155\n",
      "MQN26                             17.714096\n",
      "MQN27                             22.010968\n",
      "MQN28                              2.609698\n",
      "MQN29                              2.192526\n",
      "MQN30                             27.651450\n",
      "MQN31                             18.888539\n",
      "MQN32                              0.324731\n",
      "MQN33                              0.038839\n",
      "MQN34                              0.024134\n",
      "MQN35                              0.434964\n",
      "MQN36                              2.376124\n",
      "MQN37                              0.016950\n",
      "MQN38                              0.004530\n",
      "MQN39                              0.000082\n",
      "MQN40                              0.034543\n",
      "MQN41                              3.816019\n",
      "MQN42                              2.410271\n",
      "Length: 119, dtype: float64\n"
     ]
    }
   ],
   "source": [
    "print(X.var())"
   ]
  },
  {
   "cell_type": "code",
   "execution_count": 80,
   "metadata": {},
   "outputs": [],
   "source": [
    "treshold = 5\n",
    "sel = VarianceThreshold(threshold=treshold).fit(X)"
   ]
  },
  {
   "cell_type": "code",
   "execution_count": 81,
   "metadata": {},
   "outputs": [],
   "source": [
    "mask = sel.get_support() "
   ]
  },
  {
   "cell_type": "code",
   "execution_count": 82,
   "metadata": {},
   "outputs": [
    {
     "name": "stdout",
     "output_type": "stream",
     "text": [
      "Index(['SlogP', 'SMR', 'LabuteASA', 'TPSA', 'AMW', 'ExactMW', 'NumLipinskiHBA',\n",
      "       'NumRotatableBonds', 'NumHBA', 'NumHeteroAtoms', 'NumHeavyAtoms',\n",
      "       'NumAtoms', 'Chi0v', 'Chi1v', 'Chi2v', 'Chi3v', 'Chi4v', 'Chi1n',\n",
      "       'Chi2n', 'Chi3n', 'kappa1', 'kappa2', 'kappa3', 'slogp_VSA1',\n",
      "       'slogp_VSA2', 'slogp_VSA3', 'slogp_VSA4', 'slogp_VSA5', 'slogp_VSA6',\n",
      "       'slogp_VSA7', 'slogp_VSA8', 'slogp_VSA10', 'slogp_VSA11', 'slogp_VSA12',\n",
      "       'smr_VSA1', 'smr_VSA3', 'smr_VSA4', 'smr_VSA5', 'smr_VSA6', 'smr_VSA7',\n",
      "       'smr_VSA9', 'smr_VSA10', 'peoe_VSA1', 'peoe_VSA2', 'peoe_VSA3',\n",
      "       'peoe_VSA4', 'peoe_VSA5', 'peoe_VSA6', 'peoe_VSA7', 'peoe_VSA8',\n",
      "       'peoe_VSA9', 'peoe_VSA10', 'peoe_VSA11', 'peoe_VSA12', 'peoe_VSA13',\n",
      "       'peoe_VSA14', 'MQN1', 'MQN2', 'MQN10', 'MQN12', 'MQN13', 'MQN16',\n",
      "       'MQN17', 'MQN19', 'MQN20', 'MQN21', 'MQN26', 'MQN27', 'MQN30', 'MQN31'],\n",
      "      dtype='object')\n"
     ]
    }
   ],
   "source": [
    "retained_columns = X.columns[mask]    \n",
    "print(retained_columns)"
   ]
  },
  {
   "cell_type": "code",
   "execution_count": 83,
   "metadata": {},
   "outputs": [],
   "source": [
    "X_low_var = sel.transform(X)"
   ]
  },
  {
   "cell_type": "code",
   "execution_count": 84,
   "metadata": {},
   "outputs": [
    {
     "data": {
      "text/plain": [
       "(12132, 70)"
      ]
     },
     "execution_count": 84,
     "metadata": {},
     "output_type": "execute_result"
    }
   ],
   "source": [
    "X_low_var.shape"
   ]
  },
  {
   "cell_type": "code",
   "execution_count": 85,
   "metadata": {},
   "outputs": [],
   "source": [
    "from sklearn.preprocessing import StandardScaler"
   ]
  },
  {
   "cell_type": "code",
   "execution_count": 88,
   "metadata": {},
   "outputs": [
    {
     "data": {
      "text/plain": [
       "array([[-2.98997607e+00,  2.64027508e-04,  7.82265708e-01,\n",
       "         8.41004976e-01,  4.49109932e-01,  4.49923634e-01,\n",
       "         6.87057223e-01, -9.32087458e-02,  8.61451537e-01,\n",
       "         9.06920071e-01,  3.18384284e-01, -3.72460641e-02,\n",
       "         7.69587350e-01,  2.22930923e-01,  5.46538962e-01,\n",
       "         6.49327575e-01,  7.60135930e-01,  2.83169807e-02,\n",
       "         2.32104887e-01,  2.73427905e-01,  6.24669991e-01,\n",
       "         2.64570810e-01, -2.89907181e-02,  2.67138605e+00,\n",
       "         8.32674490e-01,  6.78568523e-01, -6.68144948e-01,\n",
       "        -1.51909063e-01, -4.64510334e-01, -2.70627124e-01,\n",
       "        -4.33787116e-01, -4.91847633e-01, -5.17177848e-01,\n",
       "         1.34492226e+00,  1.98226700e+00,  9.50294765e-01,\n",
       "        -5.53953889e-01,  2.70046783e-01, -8.72062028e-01,\n",
       "        -4.61213657e-01, -5.97869563e-01,  1.13433473e+00,\n",
       "         1.59212187e+00,  7.16768378e-01, -6.35447351e-01,\n",
       "         5.98641190e-01,  1.60517340e+00, -8.95321263e-01,\n",
       "         1.56361380e-01, -6.28709505e-01,  5.20071223e-01,\n",
       "         7.80838017e-01, -5.67608458e-01,  1.69218683e+00,\n",
       "        -4.38754354e-01,  2.18096503e+00, -1.06854452e-01,\n",
       "        -2.51878456e-01,  9.23546321e-01,  3.18384284e-01,\n",
       "        -1.60014994e-02,  6.49313778e-01, -5.28158869e-01,\n",
       "        -9.32087458e-02,  9.34631332e-01,  6.88029418e-01,\n",
       "         6.00596969e-01, -6.29999025e-01, -2.32125550e-01,\n",
       "         3.23833366e-01],\n",
       "       [ 2.33058644e+00,  2.77518891e+00,  2.57330582e+00,\n",
       "         1.00197432e+00,  2.87649614e+00,  2.87016465e+00,\n",
       "         1.12607327e+00,  4.55106352e-01,  8.61451537e-01,\n",
       "         2.22534546e+00,  2.83687040e+00,  1.65544300e+00,\n",
       "         2.20266335e+00,  2.13061812e+00,  1.84587861e+00,\n",
       "         1.74722048e+00,  1.17059795e+00,  2.26983843e+00,\n",
       "         2.09039424e+00,  2.15067628e+00,  2.21922856e+00,\n",
       "         1.70695069e+00,  9.35162483e-02,  4.75865059e-01,\n",
       "         2.26571070e-01,  1.72398974e+00, -6.68144948e-01,\n",
       "         9.50903750e-02,  2.73518698e+00,  3.83953213e+00,\n",
       "         1.29998093e+00,  3.10101665e+00, -5.17177848e-01,\n",
       "         3.25420984e+00,  6.91119166e-01, -6.07685933e-01,\n",
       "         8.86112409e-01, -5.64534052e-01,  8.07778334e-01,\n",
       "         3.51328585e+00, -5.97869563e-01,  4.20893889e+00,\n",
       "        -7.29983763e-02,  3.93117425e+00, -6.35447351e-01,\n",
       "         2.72053770e+00, -4.20280261e-01,  2.11928028e+00,\n",
       "         1.51902651e+00, -1.39724677e-01,  4.30053511e+00,\n",
       "         2.79353993e-01, -5.67608458e-01,  1.64704931e+00,\n",
       "         2.22516758e+00,  1.23586081e-01,  2.56850072e+00,\n",
       "         2.05931990e+00,  2.90597278e-01,  2.83687040e+00,\n",
       "         1.47922462e+00,  2.64462147e+00,  2.97672211e+00,\n",
       "         4.55106352e-01,  6.89935777e-01,  1.12690388e+00,\n",
       "         2.02623626e+00,  4.35782855e-01,  2.24018085e+00,\n",
       "         3.54524894e+00],\n",
       "       [-4.61928435e-01, -6.81387156e-01, -6.32842776e-01,\n",
       "         5.64024361e-02, -5.43132654e-01, -5.42069032e-01,\n",
       "         2.48041173e-01, -9.32087458e-02,  1.51890124e-01,\n",
       "         8.29042013e-02, -6.17053417e-01, -5.48989268e-01,\n",
       "        -5.06282394e-01, -5.46806487e-01, -5.20014172e-01,\n",
       "        -4.73643937e-01, -5.23289238e-01, -7.68530210e-01,\n",
       "        -8.84648493e-01, -9.15371372e-01, -3.84481459e-01,\n",
       "        -3.45435972e-01, -2.93414908e-02, -1.91901985e-01,\n",
       "        -6.14973828e-02,  9.96164039e-01, -6.68144948e-01,\n",
       "        -7.16503884e-01, -6.21726136e-01, -2.70627124e-01,\n",
       "        -4.33787116e-01, -4.91847633e-01, -5.17177848e-01,\n",
       "         9.34261884e-02,  1.25872557e-02,  2.03090088e-01,\n",
       "        -5.53953889e-01, -7.17512654e-01,  7.90742140e-01,\n",
       "        -7.62384392e-01, -5.97869563e-01, -3.36057518e-01,\n",
       "        -1.41117660e-01,  1.38556930e+00, -4.08509341e-02,\n",
       "        -3.55618991e-01, -4.20280261e-01, -8.95321263e-01,\n",
       "        -9.66550276e-01,  1.10317725e+00, -9.22120523e-01,\n",
       "        -2.01253178e-01, -5.67608458e-01,  6.16478105e-01,\n",
       "        -4.38754354e-01, -7.57151832e-02, -8.99552280e-01,\n",
       "        -2.51878456e-01,  6.07071799e-01, -6.17053417e-01,\n",
       "        -1.60014994e-02, -1.17971827e+00, -9.95476333e-01,\n",
       "        -9.32087458e-02,  3.22892445e-01,  2.49154952e-01,\n",
       "         1.25383871e-01,  2.22626479e-01, -1.18301263e+00,\n",
       "        -1.05677331e+00]])"
      ]
     },
     "execution_count": 88,
     "metadata": {},
     "output_type": "execute_result"
    }
   ],
   "source": [
    "scaler = StandardScaler().fit(X_low_var)\n",
    "#print(scaler.mean_)\n",
    "\n",
    "X_low_var_Z = scaler.transform(X_low_var)\n",
    "X_low_var_Z[:3,:]"
   ]
  },
  {
   "cell_type": "markdown",
   "metadata": {},
   "source": [
    "#### corr matrix"
   ]
  },
  {
   "cell_type": "code",
   "execution_count": 65,
   "metadata": {},
   "outputs": [],
   "source": [
    "corr_matrix = X.corr()\n",
    "\n",
    "# print(corr_matrix)\n",
    "#for column in corr_matrix.columns:\n",
    "    #col_data = corr_matrix[column]\n",
    "    # print(column)\n",
    "    \n",
    "    #for value in col_data:\n",
    "       # if abs(value) >0.8:\n",
    "            # print(value)\n",
    "            \n",
    "# как да използвам селектираните features в модел\n",
    "# как да ги запиша в променлива"
   ]
  },
  {
   "cell_type": "markdown",
   "metadata": {},
   "source": [
    "#### Best first selection with min-max normalization for negative values"
   ]
  },
  {
   "cell_type": "code",
   "execution_count": 57,
   "metadata": {},
   "outputs": [],
   "source": [
    "from sklearn.preprocessing import MinMaxScaler"
   ]
  },
  {
   "cell_type": "code",
   "execution_count": 61,
   "metadata": {},
   "outputs": [
    {
     "name": "stdout",
     "output_type": "stream",
     "text": [
      "MinMaxScaler(copy=True, feature_range=(0, 1))\n"
     ]
    },
    {
     "name": "stderr",
     "output_type": "stream",
     "text": [
      "D:\\Anaconda\\lib\\site-packages\\sklearn\\preprocessing\\data.py:334: DataConversionWarning: Data with input dtype int64, float64 were all converted to float64 by MinMaxScaler.\n",
      "  return self.partial_fit(X, y)\n"
     ]
    },
    {
     "data": {
      "text/plain": [
       "array([[0.35779367, 0.16378048, 0.21494043, 0.11662649, 0.16909519,\n",
       "        0.16902888, 0.11764706, 0.0212766 , 0.05494505, 0.0212766 ,\n",
       "        0.11764706, 0.18181818, 0.17647059, 0.15625   , 0.11875   ,\n",
       "        0.05633803, 0.16666667, 0.125     , 0.07692308, 0.08333333,\n",
       "        0.08333333, 0.16666667, 0.08333333, 0.08333333, 0.        ,\n",
       "        0.        , 0.        , 0.46666667, 0.2173685 , 0.16800951,\n",
       "        0.13677936, 0.05439869, 0.03019835, 0.13734939, 0.14839633,\n",
       "        0.1335059 , 0.13974515, 0.60944665, 0.17905713, 0.11224504,\n",
       "        0.00581197, 0.22105881, 0.06993718, 0.09370481, 0.        ,\n",
       "        0.07034915, 0.0503114 , 0.        , 0.        , 0.        ,\n",
       "        0.        , 0.        , 0.10357256, 0.23607952, 0.        ,\n",
       "        0.1314183 , 0.        , 0.08964952, 0.        , 0.05812483,\n",
       "        0.        , 0.        , 0.19630691, 0.08820714, 0.11764706,\n",
       "        0.        , 0.06455418, 0.16032386, 0.        , 0.12437411,\n",
       "        0.02955833, 0.07072876, 0.05916105, 0.        , 0.17542878,\n",
       "        0.        , 0.19173918, 0.14705882, 0.        , 0.        ,\n",
       "        0.        , 0.        , 0.2       , 0.        , 0.07142857,\n",
       "        0.08333333, 0.11320755, 0.        , 0.15625   , 0.08474576,\n",
       "        0.17391304, 0.        , 0.12790698, 0.04166667, 0.        ,\n",
       "        0.05494505, 0.12121212, 0.11764706, 0.0212766 , 0.0212766 ,\n",
       "        0.22222222, 0.22222222, 0.15384615, 0.01515152, 0.10810811,\n",
       "        0.        , 0.08333333, 0.08      , 0.0625    , 0.        ,\n",
       "        0.5       , 0.33333333, 0.        , 0.        , 0.        ,\n",
       "        0.        , 0.        , 0.04761905, 0.02083333],\n",
       "       [0.68915816, 0.44183512, 0.38924602, 0.12692474, 0.38437441,\n",
       "        0.38355129, 0.14705882, 0.08510638, 0.08791209, 0.08510638,\n",
       "        0.11764706, 0.18181818, 0.29411765, 0.375     , 0.253125  ,\n",
       "        0.        , 0.        , 0.29166667, 0.38461538, 0.        ,\n",
       "        0.08333333, 0.        , 0.        , 0.        , 0.41666667,\n",
       "        0.        , 0.25      , 0.04761905, 0.36037548, 0.35511797,\n",
       "        0.2272325 , 0.08593879, 0.03755378, 0.33000305, 0.30727528,\n",
       "        0.28191515, 0.26677673, 0.36710912, 0.3223146 , 0.21397038,\n",
       "        0.00711563, 0.06362812, 0.0478614 , 0.15405984, 0.        ,\n",
       "        0.0927127 , 0.35404987, 0.19179107, 0.11833752, 0.        ,\n",
       "        0.23295081, 0.        , 0.20807068, 0.12142135, 0.        ,\n",
       "        0.        , 0.17240583, 0.02638565, 0.15485411, 0.41972338,\n",
       "        0.        , 0.        , 0.48649544, 0.03124564, 0.36843072,\n",
       "        0.        , 0.2080971 , 0.        , 0.3065295 , 0.24646595,\n",
       "        0.06928398, 0.25613235, 0.03898889, 0.        , 0.17174822,\n",
       "        0.19460716, 0.04006587, 0.41176471, 0.125     , 0.5       ,\n",
       "        0.        , 0.        , 0.        , 0.        , 0.42857143,\n",
       "        0.        , 0.0754717 , 0.        , 0.375     , 0.18644068,\n",
       "        0.26086957, 0.        , 0.26744186, 0.35416667, 0.        ,\n",
       "        0.08791209, 0.10606061, 0.14705882, 0.08510638, 0.08510638,\n",
       "        0.        , 0.        , 0.26923077, 0.09090909, 0.05405405,\n",
       "        0.0952381 , 0.3       , 0.26666667, 0.        , 0.        ,\n",
       "        0.        , 0.        , 0.46666667, 0.        , 0.        ,\n",
       "        0.        , 0.        , 0.0952381 , 0.04166667],\n",
       "       [0.51524041, 0.09547727, 0.07722084, 0.06643042, 0.08109551,\n",
       "        0.08110183, 0.08823529, 0.0212766 , 0.05494505, 0.0212766 ,\n",
       "        0.07352941, 0.09090909, 0.10294118, 0.075     , 0.078125  ,\n",
       "        0.        , 0.        , 0.        , 0.        , 0.        ,\n",
       "        0.        , 0.        , 0.        , 0.        , 0.        ,\n",
       "        0.        , 0.        , 0.57142857, 0.09004917, 0.09251266,\n",
       "        0.06253159, 0.02213813, 0.00719952, 0.0688622 , 0.0529168 ,\n",
       "        0.03952323, 0.02660267, 0.58024479, 0.08839349, 0.06922368,\n",
       "        0.00580824, 0.01574562, 0.03736924, 0.11204047, 0.        ,\n",
       "        0.01923022, 0.03538733, 0.        , 0.        , 0.        ,\n",
       "        0.        , 0.        , 0.03507634, 0.06116548, 0.        ,\n",
       "        0.06839032, 0.        , 0.01478938, 0.15328365, 0.03072442,\n",
       "        0.        , 0.        , 0.05752775, 0.02891537, 0.16982602,\n",
       "        0.04848039, 0.        , 0.        , 0.        , 0.02376366,\n",
       "        0.17025868, 0.        , 0.0196565 , 0.        , 0.08771439,\n",
       "        0.        , 0.02537306, 0.06862745, 0.        , 0.        ,\n",
       "        0.        , 0.        , 0.        , 0.2       , 0.07142857,\n",
       "        0.        , 0.09433962, 0.        , 0.075     , 0.08474576,\n",
       "        0.13043478, 0.        , 0.        , 0.        , 0.        ,\n",
       "        0.05494505, 0.08333333, 0.08823529, 0.0212766 , 0.0212766 ,\n",
       "        0.        , 0.        , 0.11538462, 0.07575758, 0.05405405,\n",
       "        0.04761905, 0.        , 0.        , 0.        , 0.        ,\n",
       "        0.        , 0.        , 0.        , 0.        , 0.        ,\n",
       "        0.        , 0.        , 0.        , 0.        ]])"
      ]
     },
     "execution_count": 61,
     "metadata": {},
     "output_type": "execute_result"
    }
   ],
   "source": [
    "scaler = MinMaxScaler().fit(X)\n",
    "print(scaler)\n",
    "\n",
    "X_scaler = scaler.transform(X)\n",
    "X_scaler[:3,:]"
   ]
  },
  {
   "cell_type": "code",
   "execution_count": 59,
   "metadata": {},
   "outputs": [
    {
     "data": {
      "text/plain": [
       "(12132, 119)"
      ]
     },
     "execution_count": 59,
     "metadata": {},
     "output_type": "execute_result"
    }
   ],
   "source": [
    "from sklearn.feature_selection import SelectKBest, chi2\n",
    "X.shape"
   ]
  },
  {
   "cell_type": "code",
   "execution_count": 68,
   "metadata": {},
   "outputs": [
    {
     "data": {
      "text/plain": [
       "(12132, 10)"
      ]
     },
     "execution_count": 68,
     "metadata": {},
     "output_type": "execute_result"
    }
   ],
   "source": [
    "X_Best_first = SelectKBest(chi2, k=10).fit_transform(X_scaler, y)\n",
    "X_Best_first.shape"
   ]
  },
  {
   "cell_type": "markdown",
   "metadata": {},
   "source": [
    "## KNN model"
   ]
  },
  {
   "cell_type": "markdown",
   "metadata": {},
   "source": [
    "#### KNN model with Removing features with low variance & Z score normalization"
   ]
  },
  {
   "cell_type": "code",
   "execution_count": 89,
   "metadata": {},
   "outputs": [],
   "source": [
    "X_train, X_test, y_train, y_test = train_test_split(\n",
    "X_low_var_Z, y, random_state=4,test_size = 0.25)"
   ]
  },
  {
   "cell_type": "code",
   "execution_count": 90,
   "metadata": {},
   "outputs": [
    {
     "data": {
      "text/plain": [
       "KNeighborsClassifier(algorithm='auto', leaf_size=30, metric='minkowski',\n",
       "           metric_params=None, n_jobs=None, n_neighbors=11, p=2,\n",
       "           weights='uniform')"
      ]
     },
     "execution_count": 90,
     "metadata": {},
     "output_type": "execute_result"
    }
   ],
   "source": [
    "knn = KNeighborsClassifier(n_neighbors=11)\n",
    "knn.fit(X_train,y_train)"
   ]
  },
  {
   "cell_type": "code",
   "execution_count": 91,
   "metadata": {},
   "outputs": [
    {
     "data": {
      "text/plain": [
       "441"
      ]
     },
     "execution_count": 91,
     "metadata": {},
     "output_type": "execute_result"
    }
   ],
   "source": [
    "y_pred = knn.predict(X_test)\n",
    "(y_pred != y_test).sum()"
   ]
  },
  {
   "cell_type": "code",
   "execution_count": 92,
   "metadata": {},
   "outputs": [
    {
     "data": {
      "text/plain": [
       "0.8545994065281899"
      ]
     },
     "execution_count": 92,
     "metadata": {},
     "output_type": "execute_result"
    }
   ],
   "source": [
    "knn.score(X_test,y_test)"
   ]
  },
  {
   "cell_type": "markdown",
   "metadata": {},
   "source": [
    "#### KNN model with Best first selection with min-max normalization for negative values"
   ]
  },
  {
   "cell_type": "code",
   "execution_count": 93,
   "metadata": {},
   "outputs": [],
   "source": [
    "X_train, X_test, y_train, y_test = train_test_split(\n",
    "X_Best_first, y, random_state=4,test_size = 0.25)"
   ]
  },
  {
   "cell_type": "code",
   "execution_count": 94,
   "metadata": {},
   "outputs": [
    {
     "data": {
      "text/plain": [
       "KNeighborsClassifier(algorithm='auto', leaf_size=30, metric='minkowski',\n",
       "           metric_params=None, n_jobs=None, n_neighbors=11, p=2,\n",
       "           weights='uniform')"
      ]
     },
     "execution_count": 94,
     "metadata": {},
     "output_type": "execute_result"
    }
   ],
   "source": [
    "knn = KNeighborsClassifier(n_neighbors=11)\n",
    "knn.fit(X_train,y_train)"
   ]
  },
  {
   "cell_type": "code",
   "execution_count": 95,
   "metadata": {},
   "outputs": [
    {
     "data": {
      "text/plain": [
       "446"
      ]
     },
     "execution_count": 95,
     "metadata": {},
     "output_type": "execute_result"
    }
   ],
   "source": [
    "y_pred = knn.predict(X_test)\n",
    "(y_pred != y_test).sum()"
   ]
  },
  {
   "cell_type": "code",
   "execution_count": 96,
   "metadata": {},
   "outputs": [
    {
     "data": {
      "text/plain": [
       "0.8529508737223871"
      ]
     },
     "execution_count": 96,
     "metadata": {},
     "output_type": "execute_result"
    }
   ],
   "source": [
    "knn.score(X_test,y_test)"
   ]
  },
  {
   "cell_type": "code",
   "execution_count": null,
   "metadata": {},
   "outputs": [],
   "source": []
  }
 ],
 "metadata": {
  "kernelspec": {
   "display_name": "Python 3",
   "language": "python",
   "name": "python3"
  },
  "language_info": {
   "codemirror_mode": {
    "name": "ipython",
    "version": 3
   },
   "file_extension": ".py",
   "mimetype": "text/x-python",
   "name": "python",
   "nbconvert_exporter": "python",
   "pygments_lexer": "ipython3",
   "version": "3.7.3"
  }
 },
 "nbformat": 4,
 "nbformat_minor": 2
}
