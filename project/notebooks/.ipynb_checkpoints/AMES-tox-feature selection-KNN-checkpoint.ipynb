{
 "cells": [
  {
   "cell_type": "markdown",
   "metadata": {},
   "source": [
    "## AMES-TOX KNN with feature selection"
   ]
  },
  {
   "cell_type": "markdown",
   "metadata": {},
   "source": [
    "### the real test is 85% accuracy "
   ]
  },
  {
   "cell_type": "code",
   "execution_count": 2,
   "metadata": {},
   "outputs": [],
   "source": [
    "import numpy as np\n",
    "import pandas as pd\n",
    "import matplotlib.pyplot as plt\n",
    "import seaborn as sns\n",
    "%matplotlib inline \n",
    "from sklearn.feature_selection import VarianceThreshold\n",
    "from sklearn.model_selection import train_test_split\n",
    "\n",
    "from sklearn.neighbors import KNeighborsClassifier\n",
    "\n",
    "\n",
    "import matplotlib.pyplot as plt\n",
    "from sklearn import metrics\n",
    "from sklearn.metrics import accuracy_score\n",
    "from sklearn.metrics import classification_report"
   ]
  },
  {
   "cell_type": "code",
   "execution_count": 3,
   "metadata": {},
   "outputs": [
    {
     "data": {
      "text/html": [
       "<div>\n",
       "<style scoped>\n",
       "    .dataframe tbody tr th:only-of-type {\n",
       "        vertical-align: middle;\n",
       "    }\n",
       "\n",
       "    .dataframe tbody tr th {\n",
       "        vertical-align: top;\n",
       "    }\n",
       "\n",
       "    .dataframe thead th {\n",
       "        text-align: right;\n",
       "    }\n",
       "</style>\n",
       "<table border=\"1\" class=\"dataframe\">\n",
       "  <thead>\n",
       "    <tr style=\"text-align: right;\">\n",
       "      <th></th>\n",
       "      <th>Unnamed: 0</th>\n",
       "      <th>AmesResult</th>\n",
       "      <th>Structure</th>\n",
       "      <th>SlogP</th>\n",
       "      <th>SMR</th>\n",
       "      <th>LabuteASA</th>\n",
       "      <th>TPSA</th>\n",
       "      <th>AMW</th>\n",
       "      <th>ExactMW</th>\n",
       "      <th>NumLipinskiHBA</th>\n",
       "      <th>...</th>\n",
       "      <th>MQN33</th>\n",
       "      <th>MQN34</th>\n",
       "      <th>MQN35</th>\n",
       "      <th>MQN36</th>\n",
       "      <th>MQN37</th>\n",
       "      <th>MQN38</th>\n",
       "      <th>MQN39</th>\n",
       "      <th>MQN40</th>\n",
       "      <th>MQN41</th>\n",
       "      <th>MQN42</th>\n",
       "    </tr>\n",
       "  </thead>\n",
       "  <tbody>\n",
       "    <tr>\n",
       "      <th>0</th>\n",
       "      <td>0</td>\n",
       "      <td>C</td>\n",
       "      <td>[Na+].[Na+].CC1(C)SC2C(NC(=O)C(C([O-])=O)C3=CS...</td>\n",
       "      <td>-8.11340</td>\n",
       "      <td>85.0967</td>\n",
       "      <td>207.568628</td>\n",
       "      <td>129.67</td>\n",
       "      <td>428.399</td>\n",
       "      <td>428.008867</td>\n",
       "      <td>8</td>\n",
       "      <td>...</td>\n",
       "      <td>0</td>\n",
       "      <td>1</td>\n",
       "      <td>2</td>\n",
       "      <td>0</td>\n",
       "      <td>0</td>\n",
       "      <td>0</td>\n",
       "      <td>0</td>\n",
       "      <td>0</td>\n",
       "      <td>2</td>\n",
       "      <td>1</td>\n",
       "    </tr>\n",
       "    <tr>\n",
       "      <th>1</th>\n",
       "      <td>1</td>\n",
       "      <td>C</td>\n",
       "      <td>FC(F)(F)C1=CC(N\\N=C2/C(=O)C(=CC3=CC=CC=C23)C(=...</td>\n",
       "      <td>11.17980</td>\n",
       "      <td>225.8008</td>\n",
       "      <td>365.430948</td>\n",
       "      <td>141.12</td>\n",
       "      <td>930.476</td>\n",
       "      <td>928.036083</td>\n",
       "      <td>10</td>\n",
       "      <td>...</td>\n",
       "      <td>0</td>\n",
       "      <td>0</td>\n",
       "      <td>0</td>\n",
       "      <td>7</td>\n",
       "      <td>0</td>\n",
       "      <td>0</td>\n",
       "      <td>0</td>\n",
       "      <td>0</td>\n",
       "      <td>4</td>\n",
       "      <td>2</td>\n",
       "    </tr>\n",
       "    <tr>\n",
       "      <th>2</th>\n",
       "      <td>2</td>\n",
       "      <td>C</td>\n",
       "      <td>CNC(=O)\\C=C(/C)OP(=O)(OC)OC</td>\n",
       "      <td>1.05370</td>\n",
       "      <td>50.5332</td>\n",
       "      <td>82.840931</td>\n",
       "      <td>73.86</td>\n",
       "      <td>223.165</td>\n",
       "      <td>223.060959</td>\n",
       "      <td>6</td>\n",
       "      <td>...</td>\n",
       "      <td>0</td>\n",
       "      <td>0</td>\n",
       "      <td>0</td>\n",
       "      <td>0</td>\n",
       "      <td>0</td>\n",
       "      <td>0</td>\n",
       "      <td>0</td>\n",
       "      <td>0</td>\n",
       "      <td>0</td>\n",
       "      <td>0</td>\n",
       "    </tr>\n",
       "    <tr>\n",
       "      <th>3</th>\n",
       "      <td>3</td>\n",
       "      <td>C</td>\n",
       "      <td>CC(C)NC(=O)N1CC(=O)N(C1=O)C1=CC(Cl)=CC(Cl)=C1</td>\n",
       "      <td>2.88000</td>\n",
       "      <td>79.7177</td>\n",
       "      <td>131.140795</td>\n",
       "      <td>69.72</td>\n",
       "      <td>330.171</td>\n",
       "      <td>329.033397</td>\n",
       "      <td>6</td>\n",
       "      <td>...</td>\n",
       "      <td>0</td>\n",
       "      <td>0</td>\n",
       "      <td>1</td>\n",
       "      <td>1</td>\n",
       "      <td>0</td>\n",
       "      <td>0</td>\n",
       "      <td>0</td>\n",
       "      <td>0</td>\n",
       "      <td>0</td>\n",
       "      <td>0</td>\n",
       "    </tr>\n",
       "    <tr>\n",
       "      <th>4</th>\n",
       "      <td>4</td>\n",
       "      <td>C</td>\n",
       "      <td>C\\C(CC\\C=C(\\C)C1CC(=O)C(C)(C)O1)=C/CC1=C(O)C(C...</td>\n",
       "      <td>5.22402</td>\n",
       "      <td>113.9341</td>\n",
       "      <td>176.578705</td>\n",
       "      <td>83.83</td>\n",
       "      <td>420.933</td>\n",
       "      <td>420.170352</td>\n",
       "      <td>5</td>\n",
       "      <td>...</td>\n",
       "      <td>0</td>\n",
       "      <td>0</td>\n",
       "      <td>1</td>\n",
       "      <td>1</td>\n",
       "      <td>0</td>\n",
       "      <td>0</td>\n",
       "      <td>0</td>\n",
       "      <td>0</td>\n",
       "      <td>0</td>\n",
       "      <td>0</td>\n",
       "    </tr>\n",
       "  </tbody>\n",
       "</table>\n",
       "<p>5 rows × 122 columns</p>\n",
       "</div>"
      ],
      "text/plain": [
       "   Unnamed: 0 AmesResult                                          Structure  \\\n",
       "0           0          C  [Na+].[Na+].CC1(C)SC2C(NC(=O)C(C([O-])=O)C3=CS...   \n",
       "1           1          C  FC(F)(F)C1=CC(N\\N=C2/C(=O)C(=CC3=CC=CC=C23)C(=...   \n",
       "2           2          C                        CNC(=O)\\C=C(/C)OP(=O)(OC)OC   \n",
       "3           3          C      CC(C)NC(=O)N1CC(=O)N(C1=O)C1=CC(Cl)=CC(Cl)=C1   \n",
       "4           4          C  C\\C(CC\\C=C(\\C)C1CC(=O)C(C)(C)O1)=C/CC1=C(O)C(C...   \n",
       "\n",
       "      SlogP       SMR   LabuteASA    TPSA      AMW     ExactMW  \\\n",
       "0  -8.11340   85.0967  207.568628  129.67  428.399  428.008867   \n",
       "1  11.17980  225.8008  365.430948  141.12  930.476  928.036083   \n",
       "2   1.05370   50.5332   82.840931   73.86  223.165  223.060959   \n",
       "3   2.88000   79.7177  131.140795   69.72  330.171  329.033397   \n",
       "4   5.22402  113.9341  176.578705   83.83  420.933  420.170352   \n",
       "\n",
       "   NumLipinskiHBA  ...  MQN33  MQN34  MQN35  MQN36  MQN37  MQN38  MQN39  \\\n",
       "0               8  ...      0      1      2      0      0      0      0   \n",
       "1              10  ...      0      0      0      7      0      0      0   \n",
       "2               6  ...      0      0      0      0      0      0      0   \n",
       "3               6  ...      0      0      1      1      0      0      0   \n",
       "4               5  ...      0      0      1      1      0      0      0   \n",
       "\n",
       "   MQN40  MQN41  MQN42  \n",
       "0      0      2      1  \n",
       "1      0      4      2  \n",
       "2      0      0      0  \n",
       "3      0      0      0  \n",
       "4      0      0      0  \n",
       "\n",
       "[5 rows x 122 columns]"
      ]
     },
     "execution_count": 3,
     "metadata": {},
     "output_type": "execute_result"
    }
   ],
   "source": [
    "df = pd.read_csv('../datasets/ames_datapreprocessing_knime.csv')\n",
    "df.head()"
   ]
  },
  {
   "cell_type": "code",
   "execution_count": 4,
   "metadata": {},
   "outputs": [
    {
     "data": {
      "text/plain": [
       "(12138, 122)"
      ]
     },
     "execution_count": 4,
     "metadata": {},
     "output_type": "execute_result"
    }
   ],
   "source": [
    "df.shape"
   ]
  },
  {
   "cell_type": "code",
   "execution_count": 5,
   "metadata": {},
   "outputs": [],
   "source": [
    "#df.isnull().sum()"
   ]
  },
  {
   "cell_type": "code",
   "execution_count": 6,
   "metadata": {},
   "outputs": [
    {
     "data": {
      "text/plain": [
       "array(['C', 'A', 'B', nan], dtype=object)"
      ]
     },
     "execution_count": 6,
     "metadata": {},
     "output_type": "execute_result"
    }
   ],
   "source": [
    "df.AmesResult.unique()"
   ]
  },
  {
   "cell_type": "code",
   "execution_count": 7,
   "metadata": {},
   "outputs": [
    {
     "name": "stdout",
     "output_type": "stream",
     "text": [
      "6\n"
     ]
    },
    {
     "data": {
      "text/plain": [
       "Unnamed: 0    0\n",
       "AmesResult    6\n",
       "Structure     0\n",
       "SlogP         0\n",
       "SMR           0\n",
       "             ..\n",
       "MQN38         0\n",
       "MQN39         0\n",
       "MQN40         0\n",
       "MQN41         0\n",
       "MQN42         0\n",
       "Length: 122, dtype: int64"
      ]
     },
     "execution_count": 7,
     "metadata": {},
     "output_type": "execute_result"
    }
   ],
   "source": [
    "df_original = df\n",
    "df = df_original.dropna()\n",
    "print(df_original.shape[0] - df.shape[0])\n",
    "df.isna().sum()\n",
    "df_original.isna().sum()"
   ]
  },
  {
   "cell_type": "code",
   "execution_count": 8,
   "metadata": {},
   "outputs": [
    {
     "data": {
      "text/plain": [
       "<matplotlib.axes._subplots.AxesSubplot at 0x7fc0c6d86340>"
      ]
     },
     "execution_count": 8,
     "metadata": {},
     "output_type": "execute_result"
    },
    {
     "data": {
      "image/png": "[encoded data removed]",
      "text/plain": [
       "<Figure size 432x288 with 1 Axes>"
      ]
     },
     "metadata": {
      "needs_background": "light"
     },
     "output_type": "display_data"
    }
   ],
   "source": [
    "sns.countplot('AmesResult', data=df)"
   ]
  },
  {
   "cell_type": "code",
   "execution_count": 9,
   "metadata": {},
   "outputs": [],
   "source": [
    "X = df.iloc[0: , 3:]\n",
    "y = df.AmesResult"
   ]
  },
  {
   "cell_type": "markdown",
   "metadata": {},
   "source": [
    "### Feature selection"
   ]
  },
  {
   "cell_type": "markdown",
   "metadata": {},
   "source": [
    "#### Removing features with low variance & Z score normalization"
   ]
  },
  {
   "cell_type": "code",
   "execution_count": 91,
   "metadata": {},
   "outputs": [
    {
     "data": {
      "text/plain": [
       "AMW           42785.705062\n",
       "ExactMW       42688.004538\n",
       "LabuteASA      7769.304387\n",
       "TPSA           5060.115434\n",
       "SMR            2571.265016\n",
       "                  ...     \n",
       "MQN38             0.004530\n",
       "MQN39             0.000082\n",
       "smr_VSA8          0.000000\n",
       "slogp_VSA9        0.000000\n",
       "MQN18             0.000000\n",
       "Length: 119, dtype: float64"
      ]
     },
     "execution_count": 91,
     "metadata": {},
     "output_type": "execute_result"
    }
   ],
   "source": [
    "X.var().sort_values(ascending=False)"
   ]
  },
  {
   "cell_type": "code",
   "execution_count": 92,
   "metadata": {},
   "outputs": [],
   "source": [
    "treshold = 5\n",
    "sel = VarianceThreshold(threshold=treshold).fit(X)"
   ]
  },
  {
   "cell_type": "code",
   "execution_count": 93,
   "metadata": {},
   "outputs": [],
   "source": [
    "mask = sel.get_support() "
   ]
  },
  {
   "cell_type": "code",
   "execution_count": 10,
   "metadata": {},
   "outputs": [
    {
     "ename": "NameError",
     "evalue": "name 'mask' is not defined",
     "output_type": "error",
     "traceback": [
      "\u001b[0;31m---------------------------------------------------------------------------\u001b[0m",
      "\u001b[0;31mNameError\u001b[0m                                 Traceback (most recent call last)",
      "\u001b[0;32m<ipython-input-10-c08737b7f8b6>\u001b[0m in \u001b[0;36m<module>\u001b[0;34m\u001b[0m\n\u001b[0;32m----> 1\u001b[0;31m \u001b[0mretained_columns\u001b[0m \u001b[0;34m=\u001b[0m \u001b[0mX\u001b[0m\u001b[0;34m.\u001b[0m\u001b[0mcolumns\u001b[0m\u001b[0;34m[\u001b[0m\u001b[0mmask\u001b[0m\u001b[0;34m]\u001b[0m\u001b[0;34m\u001b[0m\u001b[0;34m\u001b[0m\u001b[0m\n\u001b[0m\u001b[1;32m      2\u001b[0m \u001b[0mprint\u001b[0m\u001b[0;34m(\u001b[0m\u001b[0mretained_columns\u001b[0m\u001b[0;34m.\u001b[0m\u001b[0mshape\u001b[0m\u001b[0;34m)\u001b[0m\u001b[0;34m\u001b[0m\u001b[0;34m\u001b[0m\u001b[0m\n",
      "\u001b[0;31mNameError\u001b[0m: name 'mask' is not defined"
     ]
    }
   ],
   "source": [
    "retained_columns = X.columns[mask]    \n",
    "print(retained_columns.shape)"
   ]
  },
  {
   "cell_type": "code",
   "execution_count": 16,
   "metadata": {},
   "outputs": [
    {
     "name": "stdout",
     "output_type": "stream",
     "text": [
      "~~~~~~~~~~~~~~~~~~~~~~~~~~~~~~~~~~~~~~~~~~~~~~~~~~\n",
      "Columns for t = 1\n",
      "Index(['SlogP', 'SMR', 'LabuteASA', 'TPSA', 'AMW', 'ExactMW', 'NumLipinskiHBA',\n",
      "       'NumLipinskiHBD', 'NumRotatableBonds', 'NumHBD', 'NumHBA',\n",
      "       'NumHeteroAtoms', 'NumHeavyAtoms', 'NumAtoms', 'NumStereocenters',\n",
      "       'NumRings', 'NumAromaticRings', 'NumAromaticCarbocycles', 'Chi0v',\n",
      "       'Chi1v', 'Chi2v', 'Chi3v', 'Chi4v', 'Chi1n', 'Chi2n', 'Chi3n', 'Chi4n',\n",
      "       'HallKierAlpha', 'kappa1', 'kappa2', 'kappa3', 'slogp_VSA1',\n",
      "       'slogp_VSA2', 'slogp_VSA3', 'slogp_VSA4', 'slogp_VSA5', 'slogp_VSA6',\n",
      "       'slogp_VSA7', 'slogp_VSA8', 'slogp_VSA10', 'slogp_VSA11', 'slogp_VSA12',\n",
      "       'smr_VSA1', 'smr_VSA2', 'smr_VSA3', 'smr_VSA4', 'smr_VSA5', 'smr_VSA6',\n",
      "       'smr_VSA7', 'smr_VSA9', 'smr_VSA10', 'peoe_VSA1', 'peoe_VSA2',\n",
      "       'peoe_VSA3', 'peoe_VSA4', 'peoe_VSA5', 'peoe_VSA6', 'peoe_VSA7',\n",
      "       'peoe_VSA8', 'peoe_VSA9', 'peoe_VSA10', 'peoe_VSA11', 'peoe_VSA12',\n",
      "       'peoe_VSA13', 'peoe_VSA14', 'MQN1', 'MQN2', 'MQN8', 'MQN9', 'MQN10',\n",
      "       'MQN12', 'MQN13', 'MQN14', 'MQN16', 'MQN17', 'MQN19', 'MQN20', 'MQN21',\n",
      "       'MQN22', 'MQN23', 'MQN26', 'MQN27', 'MQN28', 'MQN29', 'MQN30', 'MQN31',\n",
      "       'MQN36', 'MQN41', 'MQN42'],\n",
      "      dtype='object')\n",
      "~~~~~~~~~~~~~~~~~~~~~~~~~~~~~~~~~~~~~~~~~~~~~~~~~~\n",
      "~~~~~~~~~~~~~~~~~~~~~~~~~~~~~~~~~~~~~~~~~~~~~~~~~~\n",
      "Columns for t = 5\n",
      "Index(['SlogP', 'SMR', 'LabuteASA', 'TPSA', 'AMW', 'ExactMW', 'NumLipinskiHBA',\n",
      "       'NumRotatableBonds', 'NumHBA', 'NumHeteroAtoms', 'NumHeavyAtoms',\n",
      "       'NumAtoms', 'Chi0v', 'Chi1v', 'Chi2v', 'Chi3v', 'Chi4v', 'Chi1n',\n",
      "       'Chi2n', 'Chi3n', 'kappa1', 'kappa2', 'kappa3', 'slogp_VSA1',\n",
      "       'slogp_VSA2', 'slogp_VSA3', 'slogp_VSA4', 'slogp_VSA5', 'slogp_VSA6',\n",
      "       'slogp_VSA7', 'slogp_VSA8', 'slogp_VSA10', 'slogp_VSA11', 'slogp_VSA12',\n",
      "       'smr_VSA1', 'smr_VSA3', 'smr_VSA4', 'smr_VSA5', 'smr_VSA6', 'smr_VSA7',\n",
      "       'smr_VSA9', 'smr_VSA10', 'peoe_VSA1', 'peoe_VSA2', 'peoe_VSA3',\n",
      "       'peoe_VSA4', 'peoe_VSA5', 'peoe_VSA6', 'peoe_VSA7', 'peoe_VSA8',\n",
      "       'peoe_VSA9', 'peoe_VSA10', 'peoe_VSA11', 'peoe_VSA12', 'peoe_VSA13',\n",
      "       'peoe_VSA14', 'MQN1', 'MQN2', 'MQN10', 'MQN12', 'MQN13', 'MQN16',\n",
      "       'MQN17', 'MQN19', 'MQN20', 'MQN21', 'MQN26', 'MQN27', 'MQN30', 'MQN31'],\n",
      "      dtype='object')\n",
      "~~~~~~~~~~~~~~~~~~~~~~~~~~~~~~~~~~~~~~~~~~~~~~~~~~\n",
      "~~~~~~~~~~~~~~~~~~~~~~~~~~~~~~~~~~~~~~~~~~~~~~~~~~\n",
      "Columns for t = 20\n",
      "Index(['SMR', 'LabuteASA', 'TPSA', 'AMW', 'ExactMW', 'NumLipinskiHBA',\n",
      "       'NumRotatableBonds', 'NumHeteroAtoms', 'NumHeavyAtoms', 'NumAtoms',\n",
      "       'Chi0v', 'Chi1v', 'Chi2v', 'Chi1n', 'kappa1', 'kappa2', 'kappa3',\n",
      "       'slogp_VSA1', 'slogp_VSA2', 'slogp_VSA3', 'slogp_VSA4', 'slogp_VSA5',\n",
      "       'slogp_VSA6', 'slogp_VSA7', 'slogp_VSA8', 'slogp_VSA10', 'slogp_VSA11',\n",
      "       'slogp_VSA12', 'smr_VSA1', 'smr_VSA3', 'smr_VSA4', 'smr_VSA5',\n",
      "       'smr_VSA6', 'smr_VSA7', 'smr_VSA9', 'smr_VSA10', 'peoe_VSA1',\n",
      "       'peoe_VSA2', 'peoe_VSA3', 'peoe_VSA4', 'peoe_VSA5', 'peoe_VSA6',\n",
      "       'peoe_VSA7', 'peoe_VSA8', 'peoe_VSA9', 'peoe_VSA10', 'peoe_VSA11',\n",
      "       'peoe_VSA12', 'peoe_VSA14', 'MQN1', 'MQN12', 'MQN13', 'MQN16', 'MQN19',\n",
      "       'MQN20', 'MQN21', 'MQN27', 'MQN30'],\n",
      "      dtype='object')\n",
      "~~~~~~~~~~~~~~~~~~~~~~~~~~~~~~~~~~~~~~~~~~~~~~~~~~\n",
      "~~~~~~~~~~~~~~~~~~~~~~~~~~~~~~~~~~~~~~~~~~~~~~~~~~\n",
      "Columns for t = 50\n",
      "Index(['SMR', 'LabuteASA', 'TPSA', 'AMW', 'ExactMW', 'NumHeavyAtoms',\n",
      "       'NumAtoms', 'Chi0v', 'kappa1', 'kappa3', 'slogp_VSA1', 'slogp_VSA2',\n",
      "       'slogp_VSA3', 'slogp_VSA4', 'slogp_VSA5', 'slogp_VSA6', 'slogp_VSA10',\n",
      "       'slogp_VSA12', 'smr_VSA1', 'smr_VSA4', 'smr_VSA5', 'smr_VSA6',\n",
      "       'smr_VSA7', 'smr_VSA9', 'smr_VSA10', 'peoe_VSA1', 'peoe_VSA3',\n",
      "       'peoe_VSA4', 'peoe_VSA6', 'peoe_VSA7', 'peoe_VSA8', 'peoe_VSA9',\n",
      "       'peoe_VSA10', 'peoe_VSA14', 'MQN1', 'MQN12', 'MQN13', 'MQN20'],\n",
      "      dtype='object')\n",
      "~~~~~~~~~~~~~~~~~~~~~~~~~~~~~~~~~~~~~~~~~~~~~~~~~~\n"
     ]
    }
   ],
   "source": [
    "thresholds = [1,5,20, 50] \n",
    "\n",
    "for t in thresholds:\n",
    "    sel = VarianceThreshold(threshold=t).fit(X)\n",
    "    mask = sel.get_support() \n",
    "    retained_columns = X.columns[mask]    \n",
    "    \n",
    "#     print(f'cols = {retained_columns.shape[0]}')\n",
    "\n",
    "    print('~' * 50 )\n",
    "    print(f'Columns for t = {t}')\n",
    "    print(retained_columns)\n",
    "    print('~' * 50 )\n",
    "    \n",
    "    "
   ]
  },
  {
   "cell_type": "code",
   "execution_count": null,
   "metadata": {},
   "outputs": [],
   "source": []
  },
  {
   "cell_type": "code",
   "execution_count": 95,
   "metadata": {},
   "outputs": [],
   "source": [
    "X_low_var = sel.transform(X)"
   ]
  },
  {
   "cell_type": "code",
   "execution_count": 96,
   "metadata": {},
   "outputs": [
    {
     "data": {
      "text/plain": [
       "(12132, 70)"
      ]
     },
     "execution_count": 96,
     "metadata": {},
     "output_type": "execute_result"
    }
   ],
   "source": [
    "X_low_var.shape"
   ]
  },
  {
   "cell_type": "code",
   "execution_count": 97,
   "metadata": {},
   "outputs": [],
   "source": [
    "from sklearn.preprocessing import StandardScaler"
   ]
  },
  {
   "cell_type": "code",
   "execution_count": 98,
   "metadata": {},
   "outputs": [
    {
     "data": {
      "text/plain": [
       "array([[-2.98997607e+00,  2.64027508e-04,  7.82265708e-01,\n",
       "         8.41004976e-01,  4.49109932e-01,  4.49923634e-01,\n",
       "         6.87057223e-01, -9.32087458e-02,  8.61451537e-01,\n",
       "         9.06920071e-01],\n",
       "       [ 2.33058644e+00,  2.77518891e+00,  2.57330582e+00,\n",
       "         1.00197432e+00,  2.87649614e+00,  2.87016465e+00,\n",
       "         1.12607327e+00,  4.55106352e-01,  8.61451537e-01,\n",
       "         2.22534546e+00],\n",
       "       [-4.61928435e-01, -6.81387156e-01, -6.32842776e-01,\n",
       "         5.64024361e-02, -5.43132654e-01, -5.42069032e-01,\n",
       "         2.48041173e-01, -9.32087458e-02,  1.51890124e-01,\n",
       "         8.29042013e-02]])"
      ]
     },
     "execution_count": 98,
     "metadata": {},
     "output_type": "execute_result"
    }
   ],
   "source": [
    "scaler = StandardScaler().fit(X_low_var)\n",
    "#print(scaler.mean_)\n",
    "\n",
    "X_low_var_Z = scaler.transform(X_low_var)\n",
    "X_low_var_Z[:3,:10]"
   ]
  },
  {
   "cell_type": "markdown",
   "metadata": {},
   "source": [
    "#### corr matrix"
   ]
  },
  {
   "cell_type": "code",
   "execution_count": 99,
   "metadata": {},
   "outputs": [],
   "source": [
    "corr_matrix = X.corr()\n",
    "\n",
    "# print(corr_matrix.iloc[:4, :4])\n",
    "# print('-'*50)\n",
    "# for column in corr_matrix.columns:\n",
    "#     col_data = corr_matrix[column]\n",
    "# #     print(column)\n",
    "    \n",
    "#     for value in col_data:\n",
    "#        if abs(value) >0.8:\n",
    "#             print(f'{column} = {value}')\n",
    "            \n",
    "# как да използвам селектираните features в модел\n",
    "# как да ги запиша в променлива"
   ]
  },
  {
   "cell_type": "markdown",
   "metadata": {},
   "source": [
    "#### Best first selection with min-max normalization for negative values"
   ]
  },
  {
   "cell_type": "code",
   "execution_count": 100,
   "metadata": {},
   "outputs": [],
   "source": [
    "from sklearn.preprocessing import MinMaxScaler"
   ]
  },
  {
   "cell_type": "code",
   "execution_count": 101,
   "metadata": {},
   "outputs": [
    {
     "name": "stdout",
     "output_type": "stream",
     "text": [
      "MinMaxScaler()\n"
     ]
    },
    {
     "data": {
      "text/plain": [
       "array([[0.35779367, 0.16378048, 0.21494043, 0.11662649, 0.16909519,\n",
       "        0.16902888, 0.11764706, 0.0212766 , 0.05494505, 0.0212766 ],\n",
       "       [0.68915816, 0.44183512, 0.38924602, 0.12692474, 0.38437441,\n",
       "        0.38355129, 0.14705882, 0.08510638, 0.08791209, 0.08510638],\n",
       "       [0.51524041, 0.09547727, 0.07722084, 0.06643042, 0.08109551,\n",
       "        0.08110183, 0.08823529, 0.0212766 , 0.05494505, 0.0212766 ]])"
      ]
     },
     "execution_count": 101,
     "metadata": {},
     "output_type": "execute_result"
    }
   ],
   "source": [
    "scaler = MinMaxScaler().fit(X)\n",
    "print(scaler)\n",
    "\n",
    "X_scaler = scaler.transform(X)\n",
    "X_scaler[:3,:10]"
   ]
  },
  {
   "cell_type": "code",
   "execution_count": 102,
   "metadata": {},
   "outputs": [
    {
     "data": {
      "text/plain": [
       "(12132, 119)"
      ]
     },
     "execution_count": 102,
     "metadata": {},
     "output_type": "execute_result"
    }
   ],
   "source": [
    "from sklearn.feature_selection import SelectKBest, chi2\n",
    "X.shape"
   ]
  },
  {
   "cell_type": "code",
   "execution_count": 103,
   "metadata": {},
   "outputs": [
    {
     "data": {
      "text/plain": [
       "(12132, 10)"
      ]
     },
     "execution_count": 103,
     "metadata": {},
     "output_type": "execute_result"
    }
   ],
   "source": [
    "X_Best_first = SelectKBest(chi2, k=10).fit_transform(X_scaler, y)\n",
    "X_Best_first.shape"
   ]
  },
  {
   "cell_type": "markdown",
   "metadata": {},
   "source": [
    "## KNN model"
   ]
  },
  {
   "cell_type": "markdown",
   "metadata": {},
   "source": [
    "#### KNN model with Removing features with low variance & Z score normalization"
   ]
  },
  {
   "cell_type": "code",
   "execution_count": 104,
   "metadata": {},
   "outputs": [],
   "source": [
    "X_train, X_test, y_train, y_test = train_test_split(\n",
    "X_low_var_Z, y, random_state=4,test_size = 0.25)"
   ]
  },
  {
   "cell_type": "code",
   "execution_count": 105,
   "metadata": {},
   "outputs": [
    {
     "data": {
      "text/plain": [
       "KNeighborsClassifier(n_neighbors=11)"
      ]
     },
     "execution_count": 105,
     "metadata": {},
     "output_type": "execute_result"
    }
   ],
   "source": [
    "knn = KNeighborsClassifier(n_neighbors=11)\n",
    "knn.fit(X_train,y_train)"
   ]
  },
  {
   "cell_type": "code",
   "execution_count": 106,
   "metadata": {},
   "outputs": [],
   "source": [
    "y_pred = knn.predict(X_test)\n",
    "diff = (y_pred != y_test).sum()"
   ]
  },
  {
   "cell_type": "code",
   "execution_count": 107,
   "metadata": {},
   "outputs": [
    {
     "data": {
      "text/plain": [
       "0.8545994065281899"
      ]
     },
     "execution_count": 107,
     "metadata": {},
     "output_type": "execute_result"
    }
   ],
   "source": [
    "# in percentage:\n",
    "1-diff/y_pred.shape[0]"
   ]
  },
  {
   "cell_type": "code",
   "execution_count": 108,
   "metadata": {},
   "outputs": [
    {
     "data": {
      "text/plain": [
       "0.8545994065281899"
      ]
     },
     "execution_count": 108,
     "metadata": {},
     "output_type": "execute_result"
    }
   ],
   "source": [
    "knn.score(X_test,y_test)"
   ]
  },
  {
   "cell_type": "markdown",
   "metadata": {},
   "source": [
    "#### KNN model with Best first selection with min-max normalization for negative values"
   ]
  },
  {
   "cell_type": "code",
   "execution_count": 109,
   "metadata": {},
   "outputs": [],
   "source": [
    "X_train, X_test, y_train, y_test = train_test_split(\n",
    "X_Best_first, y, random_state=4,test_size = 0.25)"
   ]
  },
  {
   "cell_type": "code",
   "execution_count": 110,
   "metadata": {},
   "outputs": [
    {
     "data": {
      "text/plain": [
       "KNeighborsClassifier(n_neighbors=11)"
      ]
     },
     "execution_count": 110,
     "metadata": {},
     "output_type": "execute_result"
    }
   ],
   "source": [
    "knn = KNeighborsClassifier(n_neighbors=11)\n",
    "knn.fit(X_train,y_train)"
   ]
  },
  {
   "cell_type": "code",
   "execution_count": 111,
   "metadata": {},
   "outputs": [
    {
     "data": {
      "text/plain": [
       "446"
      ]
     },
     "execution_count": 111,
     "metadata": {},
     "output_type": "execute_result"
    }
   ],
   "source": [
    "y_pred = knn.predict(X_test)\n",
    "(y_pred != y_test).sum()"
   ]
  },
  {
   "cell_type": "code",
   "execution_count": 112,
   "metadata": {},
   "outputs": [
    {
     "data": {
      "text/plain": [
       "0.8529508737223871"
      ]
     },
     "execution_count": 112,
     "metadata": {},
     "output_type": "execute_result"
    }
   ],
   "source": [
    "knn.score(X_test,y_test)"
   ]
  },
  {
   "cell_type": "code",
   "execution_count": null,
   "metadata": {},
   "outputs": [],
   "source": []
  }
 ],
 "metadata": {
  "kernelspec": {
   "display_name": "Python 3",
   "language": "python",
   "name": "python3"
  },
  "language_info": {
   "codemirror_mode": {
    "name": "ipython",
    "version": 3
   },
   "file_extension": ".py",
   "mimetype": "text/x-python",
   "name": "python",
   "nbconvert_exporter": "python",
   "pygments_lexer": "ipython3",
   "version": "3.8.2"
  }
 },
 "nbformat": 4,
 "nbformat_minor": 4
}
